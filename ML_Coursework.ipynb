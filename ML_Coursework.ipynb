{
 "cells": [
  {
   "cell_type": "markdown",
   "id": "95e1a1c9",
   "metadata": {},
   "source": [
    "# 6006CEM MACHINE LEARNING AND RELATED APPLICATIONS\n",
    "# Student Name: Mohammad Adnan\n",
    "# Student ID: 8483034\n"
   ]
  },
  {
   "cell_type": "code",
   "execution_count": 1,
   "id": "fec28eb0",
   "metadata": {},
   "outputs": [],
   "source": [
    "#Importing necessary libraries: \n",
    "\n",
    "import numpy as np\n",
    "import pandas as pd\n",
    "import seaborn as sns\n",
    "import time\n",
    "import warnings\n",
    "warnings.filterwarnings('ignore')\n",
    "\n",
    "#Importing Sklearn modules:\n",
    "from sklearn.model_selection import train_test_split\n",
    "from sklearn.preprocessing import StandardScaler\n",
    "from sklearn.linear_model import LogisticRegression\n",
    "from sklearn.neighbors import KNeighborsClassifier\n",
    "from sklearn.neural_network import MLPClassifier\n",
    "from sklearn.model_selection import *\n",
    "from sklearn.metrics import *\n",
    "from sklearn.ensemble import RandomForestClassifier\n",
    "from collections import Counter\n",
    "from imblearn.over_sampling import RandomOverSampler\n",
    "from sklearn.preprocessing import MinMaxScaler\n",
    "from sklearn.preprocessing import PolynomialFeatures\n",
    "from sklearn.decomposition import PCA\n",
    "\n",
    "#Importing Matplotlib:\n",
    "import matplotlib.pyplot as plt"
   ]
  },
  {
   "cell_type": "markdown",
   "id": "84239618",
   "metadata": {},
   "source": [
    "## Data analysis and exploration"
   ]
  },
  {
   "cell_type": "code",
   "execution_count": 2,
   "id": "01962d53",
   "metadata": {
    "scrolled": true
   },
   "outputs": [
    {
     "data": {
      "text/html": [
       "<div>\n",
       "<style scoped>\n",
       "    .dataframe tbody tr th:only-of-type {\n",
       "        vertical-align: middle;\n",
       "    }\n",
       "\n",
       "    .dataframe tbody tr th {\n",
       "        vertical-align: top;\n",
       "    }\n",
       "\n",
       "    .dataframe thead th {\n",
       "        text-align: right;\n",
       "    }\n",
       "</style>\n",
       "<table border=\"1\" class=\"dataframe\">\n",
       "  <thead>\n",
       "    <tr style=\"text-align: right;\">\n",
       "      <th></th>\n",
       "      <th>Age</th>\n",
       "      <th>Gender</th>\n",
       "      <th>Region</th>\n",
       "      <th>Weight</th>\n",
       "      <th>Height</th>\n",
       "      <th>Body Mass Index</th>\n",
       "      <th>Obesity</th>\n",
       "      <th>Waist</th>\n",
       "      <th>Maximum Blood Pressure</th>\n",
       "      <th>Minimum Blood Pressure</th>\n",
       "      <th>...</th>\n",
       "      <th>PoorVision</th>\n",
       "      <th>Alcohol Consumption</th>\n",
       "      <th>HyperTension</th>\n",
       "      <th>Family  HyperTension</th>\n",
       "      <th>Diabetes</th>\n",
       "      <th>Family Diabetes</th>\n",
       "      <th>Hepatitis</th>\n",
       "      <th>Family Hepatitis</th>\n",
       "      <th>Chronic Fatigue</th>\n",
       "      <th>ALF</th>\n",
       "    </tr>\n",
       "  </thead>\n",
       "  <tbody>\n",
       "    <tr>\n",
       "      <th>0</th>\n",
       "      <td>65</td>\n",
       "      <td>M</td>\n",
       "      <td>east</td>\n",
       "      <td>56.0</td>\n",
       "      <td>162.1</td>\n",
       "      <td>21.31</td>\n",
       "      <td>0.0</td>\n",
       "      <td>83.6</td>\n",
       "      <td>135.0</td>\n",
       "      <td>71.0</td>\n",
       "      <td>...</td>\n",
       "      <td>0.0</td>\n",
       "      <td>1</td>\n",
       "      <td>0.0</td>\n",
       "      <td>0</td>\n",
       "      <td>0.0</td>\n",
       "      <td>1</td>\n",
       "      <td>1.0</td>\n",
       "      <td>0.0</td>\n",
       "      <td>0.0</td>\n",
       "      <td>0.0</td>\n",
       "    </tr>\n",
       "    <tr>\n",
       "      <th>1</th>\n",
       "      <td>36</td>\n",
       "      <td>M</td>\n",
       "      <td>south</td>\n",
       "      <td>60.2</td>\n",
       "      <td>162.2</td>\n",
       "      <td>22.88</td>\n",
       "      <td>0.0</td>\n",
       "      <td>76.6</td>\n",
       "      <td>96.0</td>\n",
       "      <td>52.0</td>\n",
       "      <td>...</td>\n",
       "      <td>0.0</td>\n",
       "      <td>0</td>\n",
       "      <td>0.0</td>\n",
       "      <td>0</td>\n",
       "      <td>0.0</td>\n",
       "      <td>0</td>\n",
       "      <td>0.0</td>\n",
       "      <td>0.0</td>\n",
       "      <td>0.0</td>\n",
       "      <td>0.0</td>\n",
       "    </tr>\n",
       "    <tr>\n",
       "      <th>2</th>\n",
       "      <td>66</td>\n",
       "      <td>M</td>\n",
       "      <td>east</td>\n",
       "      <td>83.9</td>\n",
       "      <td>162.5</td>\n",
       "      <td>31.77</td>\n",
       "      <td>1.0</td>\n",
       "      <td>113.2</td>\n",
       "      <td>115.0</td>\n",
       "      <td>57.0</td>\n",
       "      <td>...</td>\n",
       "      <td>0.0</td>\n",
       "      <td>1</td>\n",
       "      <td>0.0</td>\n",
       "      <td>0</td>\n",
       "      <td>1.0</td>\n",
       "      <td>0</td>\n",
       "      <td>0.0</td>\n",
       "      <td>0.0</td>\n",
       "      <td>0.0</td>\n",
       "      <td>0.0</td>\n",
       "    </tr>\n",
       "    <tr>\n",
       "      <th>3</th>\n",
       "      <td>54</td>\n",
       "      <td>M</td>\n",
       "      <td>east</td>\n",
       "      <td>69.4</td>\n",
       "      <td>160.5</td>\n",
       "      <td>26.94</td>\n",
       "      <td>0.0</td>\n",
       "      <td>77.9</td>\n",
       "      <td>110.0</td>\n",
       "      <td>57.0</td>\n",
       "      <td>...</td>\n",
       "      <td>0.0</td>\n",
       "      <td>1</td>\n",
       "      <td>0.0</td>\n",
       "      <td>0</td>\n",
       "      <td>0.0</td>\n",
       "      <td>0</td>\n",
       "      <td>0.0</td>\n",
       "      <td>0.0</td>\n",
       "      <td>0.0</td>\n",
       "      <td>0.0</td>\n",
       "    </tr>\n",
       "    <tr>\n",
       "      <th>4</th>\n",
       "      <td>63</td>\n",
       "      <td>M</td>\n",
       "      <td>north</td>\n",
       "      <td>73.1</td>\n",
       "      <td>159.2</td>\n",
       "      <td>28.84</td>\n",
       "      <td>0.0</td>\n",
       "      <td>89.3</td>\n",
       "      <td>132.0</td>\n",
       "      <td>73.0</td>\n",
       "      <td>...</td>\n",
       "      <td>0.0</td>\n",
       "      <td>0</td>\n",
       "      <td>1.0</td>\n",
       "      <td>0</td>\n",
       "      <td>0.0</td>\n",
       "      <td>0</td>\n",
       "      <td>0.0</td>\n",
       "      <td>0.0</td>\n",
       "      <td>0.0</td>\n",
       "      <td>0.0</td>\n",
       "    </tr>\n",
       "  </tbody>\n",
       "</table>\n",
       "<p>5 rows × 30 columns</p>\n",
       "</div>"
      ],
      "text/plain": [
       "   Age Gender Region  Weight  Height  Body Mass Index  Obesity  Waist  \\\n",
       "0   65      M   east    56.0   162.1            21.31      0.0   83.6   \n",
       "1   36      M  south    60.2   162.2            22.88      0.0   76.6   \n",
       "2   66      M   east    83.9   162.5            31.77      1.0  113.2   \n",
       "3   54      M   east    69.4   160.5            26.94      0.0   77.9   \n",
       "4   63      M  north    73.1   159.2            28.84      0.0   89.3   \n",
       "\n",
       "   Maximum Blood Pressure  Minimum Blood Pressure  ...  PoorVision  \\\n",
       "0                   135.0                    71.0  ...         0.0   \n",
       "1                    96.0                    52.0  ...         0.0   \n",
       "2                   115.0                    57.0  ...         0.0   \n",
       "3                   110.0                    57.0  ...         0.0   \n",
       "4                   132.0                    73.0  ...         0.0   \n",
       "\n",
       "   Alcohol Consumption  HyperTension  Family  HyperTension  Diabetes  \\\n",
       "0                    1           0.0                     0       0.0   \n",
       "1                    0           0.0                     0       0.0   \n",
       "2                    1           0.0                     0       1.0   \n",
       "3                    1           0.0                     0       0.0   \n",
       "4                    0           1.0                     0       0.0   \n",
       "\n",
       "   Family Diabetes  Hepatitis  Family Hepatitis  Chronic Fatigue  ALF  \n",
       "0                1        1.0               0.0              0.0  0.0  \n",
       "1                0        0.0               0.0              0.0  0.0  \n",
       "2                0        0.0               0.0              0.0  0.0  \n",
       "3                0        0.0               0.0              0.0  0.0  \n",
       "4                0        0.0               0.0              0.0  0.0  \n",
       "\n",
       "[5 rows x 30 columns]"
      ]
     },
     "execution_count": 2,
     "metadata": {},
     "output_type": "execute_result"
    }
   ],
   "source": [
    "#Loading dataset\n",
    "df=pd.read_csv(\"ALF_Data.csv\")\n",
    "df.head()"
   ]
  },
  {
   "cell_type": "code",
   "execution_count": 3,
   "id": "480e7d88",
   "metadata": {},
   "outputs": [
    {
     "data": {
      "text/plain": [
       "(8785, 30)"
      ]
     },
     "execution_count": 3,
     "metadata": {},
     "output_type": "execute_result"
    }
   ],
   "source": [
    "#Checking the shape of the dataset\n",
    "df.shape"
   ]
  },
  {
   "cell_type": "code",
   "execution_count": 4,
   "id": "8b545ce8",
   "metadata": {},
   "outputs": [
    {
     "name": "stdout",
     "output_type": "stream",
     "text": [
      "<class 'pandas.core.frame.DataFrame'>\n",
      "RangeIndex: 8785 entries, 0 to 8784\n",
      "Data columns (total 30 columns):\n",
      " #   Column                  Non-Null Count  Dtype  \n",
      "---  ------                  --------------  -----  \n",
      " 0   Age                     8785 non-null   int64  \n",
      " 1   Gender                  8785 non-null   object \n",
      " 2   Region                  8785 non-null   object \n",
      " 3   Weight                  8591 non-null   float64\n",
      " 4   Height                  8594 non-null   float64\n",
      " 5   Body Mass Index         8495 non-null   float64\n",
      " 6   Obesity                 8495 non-null   float64\n",
      " 7   Waist                   8471 non-null   float64\n",
      " 8   Maximum Blood Pressure  8481 non-null   float64\n",
      " 9   Minimum Blood Pressure  8409 non-null   float64\n",
      " 10  Good Cholesterol        8768 non-null   float64\n",
      " 11  Bad Cholesterol         8767 non-null   float64\n",
      " 12  Total Cholesterol       8769 non-null   float64\n",
      " 13  Dyslipidemia            8785 non-null   int64  \n",
      " 14  PVD                     8785 non-null   int64  \n",
      " 15  Physical Activity       8775 non-null   float64\n",
      " 16  Education               8765 non-null   float64\n",
      " 17  Unmarried               8333 non-null   float64\n",
      " 18  Income                  7624 non-null   float64\n",
      " 19  Source of Care          8785 non-null   object \n",
      " 20  PoorVision              8222 non-null   float64\n",
      " 21  Alcohol Consumption     8785 non-null   int64  \n",
      " 22  HyperTension            8705 non-null   float64\n",
      " 23  Family  HyperTension    8785 non-null   int64  \n",
      " 24  Diabetes                8783 non-null   float64\n",
      " 25  Family Diabetes         8785 non-null   int64  \n",
      " 26  Hepatitis               8763 non-null   float64\n",
      " 27  Family Hepatitis        8779 non-null   float64\n",
      " 28  Chronic Fatigue         8750 non-null   float64\n",
      " 29  ALF                     6000 non-null   float64\n",
      "dtypes: float64(21), int64(6), object(3)\n",
      "memory usage: 2.0+ MB\n"
     ]
    }
   ],
   "source": [
    "#Checking the information of the dataset\n",
    "df.info()"
   ]
  },
  {
   "cell_type": "code",
   "execution_count": 5,
   "id": "cb606829",
   "metadata": {},
   "outputs": [
    {
     "data": {
      "text/html": [
       "<div>\n",
       "<style scoped>\n",
       "    .dataframe tbody tr th:only-of-type {\n",
       "        vertical-align: middle;\n",
       "    }\n",
       "\n",
       "    .dataframe tbody tr th {\n",
       "        vertical-align: top;\n",
       "    }\n",
       "\n",
       "    .dataframe thead th {\n",
       "        text-align: right;\n",
       "    }\n",
       "</style>\n",
       "<table border=\"1\" class=\"dataframe\">\n",
       "  <thead>\n",
       "    <tr style=\"text-align: right;\">\n",
       "      <th></th>\n",
       "      <th>Age</th>\n",
       "      <th>Weight</th>\n",
       "      <th>Height</th>\n",
       "      <th>Body Mass Index</th>\n",
       "      <th>Obesity</th>\n",
       "      <th>Waist</th>\n",
       "      <th>Maximum Blood Pressure</th>\n",
       "      <th>Minimum Blood Pressure</th>\n",
       "      <th>Good Cholesterol</th>\n",
       "      <th>Bad Cholesterol</th>\n",
       "      <th>...</th>\n",
       "      <th>PoorVision</th>\n",
       "      <th>Alcohol Consumption</th>\n",
       "      <th>HyperTension</th>\n",
       "      <th>Family  HyperTension</th>\n",
       "      <th>Diabetes</th>\n",
       "      <th>Family Diabetes</th>\n",
       "      <th>Hepatitis</th>\n",
       "      <th>Family Hepatitis</th>\n",
       "      <th>Chronic Fatigue</th>\n",
       "      <th>ALF</th>\n",
       "    </tr>\n",
       "  </thead>\n",
       "  <tbody>\n",
       "    <tr>\n",
       "      <th>count</th>\n",
       "      <td>8785.000000</td>\n",
       "      <td>8591.000000</td>\n",
       "      <td>8594.000000</td>\n",
       "      <td>8495.000000</td>\n",
       "      <td>8495.000000</td>\n",
       "      <td>8471.000000</td>\n",
       "      <td>8481.000000</td>\n",
       "      <td>8409.000000</td>\n",
       "      <td>8768.000000</td>\n",
       "      <td>8767.000000</td>\n",
       "      <td>...</td>\n",
       "      <td>8222.000000</td>\n",
       "      <td>8785.000000</td>\n",
       "      <td>8705.000000</td>\n",
       "      <td>8785.000000</td>\n",
       "      <td>8783.000000</td>\n",
       "      <td>8785.000000</td>\n",
       "      <td>8763.00000</td>\n",
       "      <td>8779.000000</td>\n",
       "      <td>8750.000000</td>\n",
       "      <td>6000.000000</td>\n",
       "    </tr>\n",
       "    <tr>\n",
       "      <th>mean</th>\n",
       "      <td>49.349915</td>\n",
       "      <td>79.100198</td>\n",
       "      <td>167.028124</td>\n",
       "      <td>28.296022</td>\n",
       "      <td>0.315951</td>\n",
       "      <td>96.845178</td>\n",
       "      <td>125.832213</td>\n",
       "      <td>71.516827</td>\n",
       "      <td>51.822536</td>\n",
       "      <td>152.587544</td>\n",
       "      <td>...</td>\n",
       "      <td>0.063610</td>\n",
       "      <td>0.304041</td>\n",
       "      <td>0.402412</td>\n",
       "      <td>0.233238</td>\n",
       "      <td>0.111351</td>\n",
       "      <td>0.311781</td>\n",
       "      <td>0.06653</td>\n",
       "      <td>0.020503</td>\n",
       "      <td>0.029029</td>\n",
       "      <td>0.077333</td>\n",
       "    </tr>\n",
       "    <tr>\n",
       "      <th>std</th>\n",
       "      <td>18.831309</td>\n",
       "      <td>19.406975</td>\n",
       "      <td>10.103450</td>\n",
       "      <td>6.184846</td>\n",
       "      <td>0.464921</td>\n",
       "      <td>15.101170</td>\n",
       "      <td>21.046860</td>\n",
       "      <td>12.672351</td>\n",
       "      <td>15.789131</td>\n",
       "      <td>42.976096</td>\n",
       "      <td>...</td>\n",
       "      <td>0.244071</td>\n",
       "      <td>0.460026</td>\n",
       "      <td>0.490412</td>\n",
       "      <td>0.422917</td>\n",
       "      <td>0.314585</td>\n",
       "      <td>0.463247</td>\n",
       "      <td>0.24922</td>\n",
       "      <td>0.141723</td>\n",
       "      <td>0.167896</td>\n",
       "      <td>0.267142</td>\n",
       "    </tr>\n",
       "    <tr>\n",
       "      <th>min</th>\n",
       "      <td>20.000000</td>\n",
       "      <td>25.600000</td>\n",
       "      <td>130.400000</td>\n",
       "      <td>12.040000</td>\n",
       "      <td>0.000000</td>\n",
       "      <td>58.500000</td>\n",
       "      <td>72.000000</td>\n",
       "      <td>10.000000</td>\n",
       "      <td>8.000000</td>\n",
       "      <td>27.000000</td>\n",
       "      <td>...</td>\n",
       "      <td>0.000000</td>\n",
       "      <td>0.000000</td>\n",
       "      <td>0.000000</td>\n",
       "      <td>0.000000</td>\n",
       "      <td>0.000000</td>\n",
       "      <td>0.000000</td>\n",
       "      <td>0.00000</td>\n",
       "      <td>0.000000</td>\n",
       "      <td>0.000000</td>\n",
       "      <td>0.000000</td>\n",
       "    </tr>\n",
       "    <tr>\n",
       "      <th>25%</th>\n",
       "      <td>33.000000</td>\n",
       "      <td>65.400000</td>\n",
       "      <td>159.700000</td>\n",
       "      <td>24.080000</td>\n",
       "      <td>0.000000</td>\n",
       "      <td>86.200000</td>\n",
       "      <td>111.000000</td>\n",
       "      <td>64.000000</td>\n",
       "      <td>41.000000</td>\n",
       "      <td>123.000000</td>\n",
       "      <td>...</td>\n",
       "      <td>0.000000</td>\n",
       "      <td>0.000000</td>\n",
       "      <td>0.000000</td>\n",
       "      <td>0.000000</td>\n",
       "      <td>0.000000</td>\n",
       "      <td>0.000000</td>\n",
       "      <td>0.00000</td>\n",
       "      <td>0.000000</td>\n",
       "      <td>0.000000</td>\n",
       "      <td>0.000000</td>\n",
       "    </tr>\n",
       "    <tr>\n",
       "      <th>50%</th>\n",
       "      <td>47.000000</td>\n",
       "      <td>76.800000</td>\n",
       "      <td>166.600000</td>\n",
       "      <td>27.360000</td>\n",
       "      <td>0.000000</td>\n",
       "      <td>96.300000</td>\n",
       "      <td>122.000000</td>\n",
       "      <td>72.000000</td>\n",
       "      <td>49.000000</td>\n",
       "      <td>149.000000</td>\n",
       "      <td>...</td>\n",
       "      <td>0.000000</td>\n",
       "      <td>0.000000</td>\n",
       "      <td>0.000000</td>\n",
       "      <td>0.000000</td>\n",
       "      <td>0.000000</td>\n",
       "      <td>0.000000</td>\n",
       "      <td>0.00000</td>\n",
       "      <td>0.000000</td>\n",
       "      <td>0.000000</td>\n",
       "      <td>0.000000</td>\n",
       "    </tr>\n",
       "    <tr>\n",
       "      <th>75%</th>\n",
       "      <td>65.000000</td>\n",
       "      <td>89.550000</td>\n",
       "      <td>174.200000</td>\n",
       "      <td>31.380000</td>\n",
       "      <td>1.000000</td>\n",
       "      <td>106.100000</td>\n",
       "      <td>136.000000</td>\n",
       "      <td>79.000000</td>\n",
       "      <td>60.000000</td>\n",
       "      <td>177.000000</td>\n",
       "      <td>...</td>\n",
       "      <td>0.000000</td>\n",
       "      <td>1.000000</td>\n",
       "      <td>1.000000</td>\n",
       "      <td>0.000000</td>\n",
       "      <td>0.000000</td>\n",
       "      <td>1.000000</td>\n",
       "      <td>0.00000</td>\n",
       "      <td>0.000000</td>\n",
       "      <td>0.000000</td>\n",
       "      <td>0.000000</td>\n",
       "    </tr>\n",
       "    <tr>\n",
       "      <th>max</th>\n",
       "      <td>85.000000</td>\n",
       "      <td>193.300000</td>\n",
       "      <td>200.100000</td>\n",
       "      <td>66.440000</td>\n",
       "      <td>1.000000</td>\n",
       "      <td>173.400000</td>\n",
       "      <td>233.000000</td>\n",
       "      <td>132.000000</td>\n",
       "      <td>160.000000</td>\n",
       "      <td>684.000000</td>\n",
       "      <td>...</td>\n",
       "      <td>1.000000</td>\n",
       "      <td>1.000000</td>\n",
       "      <td>1.000000</td>\n",
       "      <td>1.000000</td>\n",
       "      <td>1.000000</td>\n",
       "      <td>1.000000</td>\n",
       "      <td>1.00000</td>\n",
       "      <td>1.000000</td>\n",
       "      <td>1.000000</td>\n",
       "      <td>1.000000</td>\n",
       "    </tr>\n",
       "  </tbody>\n",
       "</table>\n",
       "<p>8 rows × 27 columns</p>\n",
       "</div>"
      ],
      "text/plain": [
       "               Age       Weight       Height  Body Mass Index      Obesity  \\\n",
       "count  8785.000000  8591.000000  8594.000000      8495.000000  8495.000000   \n",
       "mean     49.349915    79.100198   167.028124        28.296022     0.315951   \n",
       "std      18.831309    19.406975    10.103450         6.184846     0.464921   \n",
       "min      20.000000    25.600000   130.400000        12.040000     0.000000   \n",
       "25%      33.000000    65.400000   159.700000        24.080000     0.000000   \n",
       "50%      47.000000    76.800000   166.600000        27.360000     0.000000   \n",
       "75%      65.000000    89.550000   174.200000        31.380000     1.000000   \n",
       "max      85.000000   193.300000   200.100000        66.440000     1.000000   \n",
       "\n",
       "             Waist  Maximum Blood Pressure  Minimum Blood Pressure  \\\n",
       "count  8471.000000             8481.000000             8409.000000   \n",
       "mean     96.845178              125.832213               71.516827   \n",
       "std      15.101170               21.046860               12.672351   \n",
       "min      58.500000               72.000000               10.000000   \n",
       "25%      86.200000              111.000000               64.000000   \n",
       "50%      96.300000              122.000000               72.000000   \n",
       "75%     106.100000              136.000000               79.000000   \n",
       "max     173.400000              233.000000              132.000000   \n",
       "\n",
       "       Good Cholesterol  Bad Cholesterol  ...   PoorVision  \\\n",
       "count       8768.000000      8767.000000  ...  8222.000000   \n",
       "mean          51.822536       152.587544  ...     0.063610   \n",
       "std           15.789131        42.976096  ...     0.244071   \n",
       "min            8.000000        27.000000  ...     0.000000   \n",
       "25%           41.000000       123.000000  ...     0.000000   \n",
       "50%           49.000000       149.000000  ...     0.000000   \n",
       "75%           60.000000       177.000000  ...     0.000000   \n",
       "max          160.000000       684.000000  ...     1.000000   \n",
       "\n",
       "       Alcohol Consumption  HyperTension  Family  HyperTension     Diabetes  \\\n",
       "count          8785.000000   8705.000000           8785.000000  8783.000000   \n",
       "mean              0.304041      0.402412              0.233238     0.111351   \n",
       "std               0.460026      0.490412              0.422917     0.314585   \n",
       "min               0.000000      0.000000              0.000000     0.000000   \n",
       "25%               0.000000      0.000000              0.000000     0.000000   \n",
       "50%               0.000000      0.000000              0.000000     0.000000   \n",
       "75%               1.000000      1.000000              0.000000     0.000000   \n",
       "max               1.000000      1.000000              1.000000     1.000000   \n",
       "\n",
       "       Family Diabetes   Hepatitis  Family Hepatitis  Chronic Fatigue  \\\n",
       "count      8785.000000  8763.00000       8779.000000      8750.000000   \n",
       "mean          0.311781     0.06653          0.020503         0.029029   \n",
       "std           0.463247     0.24922          0.141723         0.167896   \n",
       "min           0.000000     0.00000          0.000000         0.000000   \n",
       "25%           0.000000     0.00000          0.000000         0.000000   \n",
       "50%           0.000000     0.00000          0.000000         0.000000   \n",
       "75%           1.000000     0.00000          0.000000         0.000000   \n",
       "max           1.000000     1.00000          1.000000         1.000000   \n",
       "\n",
       "               ALF  \n",
       "count  6000.000000  \n",
       "mean      0.077333  \n",
       "std       0.267142  \n",
       "min       0.000000  \n",
       "25%       0.000000  \n",
       "50%       0.000000  \n",
       "75%       0.000000  \n",
       "max       1.000000  \n",
       "\n",
       "[8 rows x 27 columns]"
      ]
     },
     "execution_count": 5,
     "metadata": {},
     "output_type": "execute_result"
    }
   ],
   "source": [
    "#Checking the statistics of the dataset\n",
    "df.describe()"
   ]
  },
  {
   "cell_type": "code",
   "execution_count": 6,
   "id": "db52d905",
   "metadata": {},
   "outputs": [
    {
     "data": {
      "text/plain": [
       "0"
      ]
     },
     "execution_count": 6,
     "metadata": {},
     "output_type": "execute_result"
    }
   ],
   "source": [
    "#Checking for any duplicates in the dataset\n",
    "df.duplicated().sum()"
   ]
  },
  {
   "cell_type": "code",
   "execution_count": 7,
   "id": "2613e4db",
   "metadata": {},
   "outputs": [
    {
     "data": {
      "text/plain": [
       "<AxesSubplot:>"
      ]
     },
     "execution_count": 7,
     "metadata": {},
     "output_type": "execute_result"
    },
    {
     "data": {
      "image/png": "[encoded data removed]",
      "text/plain": [
       "<Figure size 432x288 with 2 Axes>"
      ]
     },
     "metadata": {
      "needs_background": "light"
     },
     "output_type": "display_data"
    }
   ],
   "source": [
    "#Outputting a heatmap of all the null values in the dataset\n",
    "sns.heatmap(df.isnull())"
   ]
  },
  {
   "cell_type": "code",
   "execution_count": 8,
   "id": "b1b6831b",
   "metadata": {
    "scrolled": true
   },
   "outputs": [
    {
     "data": {
      "text/plain": [
       "<AxesSubplot:>"
      ]
     },
     "execution_count": 8,
     "metadata": {},
     "output_type": "execute_result"
    },
    {
     "data": {
      "image/png": "[encoded data removed]",
      "text/plain": [
       "<Figure size 1440x1440 with 2 Axes>"
      ]
     },
     "metadata": {
      "needs_background": "light"
     },
     "output_type": "display_data"
    }
   ],
   "source": [
    "#Plotting a correlation matrix for the dataset\n",
    "plt.figure(figsize=(20,20))\n",
    "correlation_matrix = df.corr().round(2)\n",
    "sns.heatmap(data=correlation_matrix, annot=True, square=True, linewidths=0.5, linecolor='white')"
   ]
  },
  {
   "cell_type": "code",
   "execution_count": 9,
   "id": "48cc81ab",
   "metadata": {
    "scrolled": true
   },
   "outputs": [
    {
     "data": {
      "text/plain": [
       "<AxesSubplot:title={'center':'ALF vs No ALF'}, ylabel='ALF'>"
      ]
     },
     "execution_count": 9,
     "metadata": {},
     "output_type": "execute_result"
    },
    {
     "data": {
      "image/png": "[encoded data removed]",
      "text/plain": [
       "<Figure size 576x576 with 1 Axes>"
      ]
     },
     "metadata": {},
     "output_type": "display_data"
    }
   ],
   "source": [
    "#Making a pie chart showing the comparison of those with ALF to those with no ALF\n",
    "fig = plt.subplots(1,figsize=(8,8))\n",
    "labels = 'No ALF', 'ALF'\n",
    "plt.title(\"ALF vs No ALF\")\n",
    "df.ALF.value_counts().plot.pie(labels=labels, autopct='%1.1f%%',shadow=True, startangle=90)"
   ]
  },
  {
   "cell_type": "code",
   "execution_count": 10,
   "id": "825757ef",
   "metadata": {},
   "outputs": [
    {
     "data": {
      "image/png": "[encoded data removed]",
      "text/plain": [
       "<Figure size 1440x1440 with 30 Axes>"
      ]
     },
     "metadata": {
      "needs_background": "light"
     },
     "output_type": "display_data"
    }
   ],
   "source": [
    "#Plotting histographs for all the features (X axis) comparison to the amount of people (Y axis)\n",
    "features = df.hist(orientation='vertical', figsize=(20,20))"
   ]
  },
  {
   "cell_type": "markdown",
   "id": "66565b31",
   "metadata": {},
   "source": [
    "# Data Preprocessing"
   ]
  },
  {
   "cell_type": "code",
   "execution_count": 11,
   "id": "8227196a",
   "metadata": {
    "scrolled": true
   },
   "outputs": [
    {
     "data": {
      "text/plain": [
       "ALF                       2785\n",
       "Income                    1161\n",
       "PoorVision                 563\n",
       "Unmarried                  452\n",
       "Minimum Blood Pressure     376\n",
       "Waist                      314\n",
       "Maximum Blood Pressure     304\n",
       "Body Mass Index            290\n",
       "Obesity                    290\n",
       "Weight                     194\n",
       "Height                     191\n",
       "HyperTension                80\n",
       "Chronic Fatigue             35\n",
       "Hepatitis                   22\n",
       "Education                   20\n",
       "Bad Cholesterol             18\n",
       "Good Cholesterol            17\n",
       "Total Cholesterol           16\n",
       "Physical Activity           10\n",
       "Family Hepatitis             6\n",
       "Diabetes                     2\n",
       "Source of Care               0\n",
       "Gender                       0\n",
       "Alcohol Consumption          0\n",
       "PVD                          0\n",
       "Family  HyperTension         0\n",
       "Family Diabetes              0\n",
       "Dyslipidemia                 0\n",
       "Region                       0\n",
       "Age                          0\n",
       "dtype: int64"
      ]
     },
     "execution_count": 11,
     "metadata": {},
     "output_type": "execute_result"
    }
   ],
   "source": [
    "#Checking for any null values present in the dataset and displaying them in descending order\n",
    "missingVal=df.isnull().sum().sort_values(ascending=False)\n",
    "missingVal.head(30)"
   ]
  },
  {
   "cell_type": "code",
   "execution_count": 12,
   "id": "0762ae9e",
   "metadata": {},
   "outputs": [],
   "source": [
    "#Dealing with missing values in numerical features by filling them with the mean\n",
    "df[\"Minimum Blood Pressure\"] = df[\"Minimum Blood Pressure\"].fillna(df[\"Minimum Blood Pressure\"].mean())\n",
    "df[\"Waist\"] = df[\"Waist\"].fillna(df[\"Waist\"].mean())\n",
    "df[\"Maximum Blood Pressure\"] = df[\"Maximum Blood Pressure\"].fillna(df[\"Maximum Blood Pressure\"].mean())\n",
    "df[\"Body Mass Index\"] = df[\"Body Mass Index\"].fillna(df[\"Body Mass Index\"].mean())\n",
    "df[\"Weight\"] = df[\"Weight\"].fillna(df[\"Weight\"].mean())\n",
    "df[\"Height\"] = df[\"Height\"].fillna(df[\"Height\"].mean())\n",
    "df[\"Bad Cholesterol\"] = df[\"Bad Cholesterol\"].fillna(df[\"Bad Cholesterol\"].mean())\n",
    "df[\"Good Cholesterol\"] = df[\"Good Cholesterol\"].fillna(df[\"Good Cholesterol\"].mean())\n",
    "df[\"Total Cholesterol\"] = df[\"Total Cholesterol\"].fillna(df[\"Total Cholesterol\"].mean())\n",
    "df[\"Physical Activity\"] = df[\"Physical Activity\"].fillna(df[\"Physical Activity\"].mean())"
   ]
  },
  {
   "cell_type": "code",
   "execution_count": 13,
   "id": "96cd1943",
   "metadata": {},
   "outputs": [],
   "source": [
    "#Dealing with missing values binary numerical features by dropping them\n",
    "df.dropna(subset=['ALF', 'Income','PoorVision', 'Unmarried', 'Obesity','HyperTension','Chronic Fatigue','Hepatitis', \n",
    "                  'Education','Family Hepatitis','Diabetes'],how='any', inplace=True)"
   ]
  },
  {
   "cell_type": "code",
   "execution_count": 14,
   "id": "073ff209",
   "metadata": {},
   "outputs": [
    {
     "data": {
      "text/html": [
       "<div>\n",
       "<style scoped>\n",
       "    .dataframe tbody tr th:only-of-type {\n",
       "        vertical-align: middle;\n",
       "    }\n",
       "\n",
       "    .dataframe tbody tr th {\n",
       "        vertical-align: top;\n",
       "    }\n",
       "\n",
       "    .dataframe thead th {\n",
       "        text-align: right;\n",
       "    }\n",
       "</style>\n",
       "<table border=\"1\" class=\"dataframe\">\n",
       "  <thead>\n",
       "    <tr style=\"text-align: right;\">\n",
       "      <th></th>\n",
       "      <th>Age</th>\n",
       "      <th>Gender</th>\n",
       "      <th>Region</th>\n",
       "      <th>Weight</th>\n",
       "      <th>Height</th>\n",
       "      <th>Body Mass Index</th>\n",
       "      <th>Obesity</th>\n",
       "      <th>Waist</th>\n",
       "      <th>Maximum Blood Pressure</th>\n",
       "      <th>Minimum Blood Pressure</th>\n",
       "      <th>...</th>\n",
       "      <th>PoorVision</th>\n",
       "      <th>Alcohol Consumption</th>\n",
       "      <th>HyperTension</th>\n",
       "      <th>Family  HyperTension</th>\n",
       "      <th>Diabetes</th>\n",
       "      <th>Family Diabetes</th>\n",
       "      <th>Hepatitis</th>\n",
       "      <th>Family Hepatitis</th>\n",
       "      <th>Chronic Fatigue</th>\n",
       "      <th>ALF</th>\n",
       "    </tr>\n",
       "  </thead>\n",
       "  <tbody>\n",
       "    <tr>\n",
       "      <th>0</th>\n",
       "      <td>65</td>\n",
       "      <td>M</td>\n",
       "      <td>east</td>\n",
       "      <td>56.0</td>\n",
       "      <td>162.1</td>\n",
       "      <td>21.31</td>\n",
       "      <td>0.0</td>\n",
       "      <td>83.6</td>\n",
       "      <td>135.0</td>\n",
       "      <td>71.0</td>\n",
       "      <td>...</td>\n",
       "      <td>0.0</td>\n",
       "      <td>1</td>\n",
       "      <td>0.0</td>\n",
       "      <td>0</td>\n",
       "      <td>0.0</td>\n",
       "      <td>1</td>\n",
       "      <td>1.0</td>\n",
       "      <td>0.0</td>\n",
       "      <td>0.0</td>\n",
       "      <td>0.0</td>\n",
       "    </tr>\n",
       "    <tr>\n",
       "      <th>1</th>\n",
       "      <td>66</td>\n",
       "      <td>M</td>\n",
       "      <td>east</td>\n",
       "      <td>83.9</td>\n",
       "      <td>162.5</td>\n",
       "      <td>31.77</td>\n",
       "      <td>1.0</td>\n",
       "      <td>113.2</td>\n",
       "      <td>115.0</td>\n",
       "      <td>57.0</td>\n",
       "      <td>...</td>\n",
       "      <td>0.0</td>\n",
       "      <td>1</td>\n",
       "      <td>0.0</td>\n",
       "      <td>0</td>\n",
       "      <td>1.0</td>\n",
       "      <td>0</td>\n",
       "      <td>0.0</td>\n",
       "      <td>0.0</td>\n",
       "      <td>0.0</td>\n",
       "      <td>0.0</td>\n",
       "    </tr>\n",
       "    <tr>\n",
       "      <th>2</th>\n",
       "      <td>54</td>\n",
       "      <td>M</td>\n",
       "      <td>east</td>\n",
       "      <td>69.4</td>\n",
       "      <td>160.5</td>\n",
       "      <td>26.94</td>\n",
       "      <td>0.0</td>\n",
       "      <td>77.9</td>\n",
       "      <td>110.0</td>\n",
       "      <td>57.0</td>\n",
       "      <td>...</td>\n",
       "      <td>0.0</td>\n",
       "      <td>1</td>\n",
       "      <td>0.0</td>\n",
       "      <td>0</td>\n",
       "      <td>0.0</td>\n",
       "      <td>0</td>\n",
       "      <td>0.0</td>\n",
       "      <td>0.0</td>\n",
       "      <td>0.0</td>\n",
       "      <td>0.0</td>\n",
       "    </tr>\n",
       "    <tr>\n",
       "      <th>3</th>\n",
       "      <td>26</td>\n",
       "      <td>F</td>\n",
       "      <td>east</td>\n",
       "      <td>119.3</td>\n",
       "      <td>193.2</td>\n",
       "      <td>31.96</td>\n",
       "      <td>1.0</td>\n",
       "      <td>117.9</td>\n",
       "      <td>129.0</td>\n",
       "      <td>70.0</td>\n",
       "      <td>...</td>\n",
       "      <td>0.0</td>\n",
       "      <td>0</td>\n",
       "      <td>0.0</td>\n",
       "      <td>1</td>\n",
       "      <td>0.0</td>\n",
       "      <td>0</td>\n",
       "      <td>0.0</td>\n",
       "      <td>0.0</td>\n",
       "      <td>0.0</td>\n",
       "      <td>0.0</td>\n",
       "    </tr>\n",
       "    <tr>\n",
       "      <th>4</th>\n",
       "      <td>66</td>\n",
       "      <td>F</td>\n",
       "      <td>north</td>\n",
       "      <td>85.1</td>\n",
       "      <td>172.1</td>\n",
       "      <td>28.73</td>\n",
       "      <td>0.0</td>\n",
       "      <td>99.2</td>\n",
       "      <td>137.0</td>\n",
       "      <td>92.0</td>\n",
       "      <td>...</td>\n",
       "      <td>0.0</td>\n",
       "      <td>0</td>\n",
       "      <td>1.0</td>\n",
       "      <td>0</td>\n",
       "      <td>0.0</td>\n",
       "      <td>0</td>\n",
       "      <td>0.0</td>\n",
       "      <td>0.0</td>\n",
       "      <td>0.0</td>\n",
       "      <td>0.0</td>\n",
       "    </tr>\n",
       "    <tr>\n",
       "      <th>...</th>\n",
       "      <td>...</td>\n",
       "      <td>...</td>\n",
       "      <td>...</td>\n",
       "      <td>...</td>\n",
       "      <td>...</td>\n",
       "      <td>...</td>\n",
       "      <td>...</td>\n",
       "      <td>...</td>\n",
       "      <td>...</td>\n",
       "      <td>...</td>\n",
       "      <td>...</td>\n",
       "      <td>...</td>\n",
       "      <td>...</td>\n",
       "      <td>...</td>\n",
       "      <td>...</td>\n",
       "      <td>...</td>\n",
       "      <td>...</td>\n",
       "      <td>...</td>\n",
       "      <td>...</td>\n",
       "      <td>...</td>\n",
       "      <td>...</td>\n",
       "    </tr>\n",
       "    <tr>\n",
       "      <th>4482</th>\n",
       "      <td>77</td>\n",
       "      <td>F</td>\n",
       "      <td>east</td>\n",
       "      <td>109.3</td>\n",
       "      <td>185.8</td>\n",
       "      <td>31.66</td>\n",
       "      <td>1.0</td>\n",
       "      <td>117.2</td>\n",
       "      <td>149.0</td>\n",
       "      <td>77.0</td>\n",
       "      <td>...</td>\n",
       "      <td>0.0</td>\n",
       "      <td>1</td>\n",
       "      <td>1.0</td>\n",
       "      <td>0</td>\n",
       "      <td>0.0</td>\n",
       "      <td>0</td>\n",
       "      <td>0.0</td>\n",
       "      <td>0.0</td>\n",
       "      <td>0.0</td>\n",
       "      <td>1.0</td>\n",
       "    </tr>\n",
       "    <tr>\n",
       "      <th>4483</th>\n",
       "      <td>49</td>\n",
       "      <td>F</td>\n",
       "      <td>east</td>\n",
       "      <td>86.6</td>\n",
       "      <td>168.9</td>\n",
       "      <td>30.36</td>\n",
       "      <td>1.0</td>\n",
       "      <td>99.5</td>\n",
       "      <td>130.0</td>\n",
       "      <td>75.0</td>\n",
       "      <td>...</td>\n",
       "      <td>0.0</td>\n",
       "      <td>0</td>\n",
       "      <td>1.0</td>\n",
       "      <td>1</td>\n",
       "      <td>0.0</td>\n",
       "      <td>0</td>\n",
       "      <td>0.0</td>\n",
       "      <td>0.0</td>\n",
       "      <td>0.0</td>\n",
       "      <td>0.0</td>\n",
       "    </tr>\n",
       "    <tr>\n",
       "      <th>4484</th>\n",
       "      <td>30</td>\n",
       "      <td>F</td>\n",
       "      <td>north</td>\n",
       "      <td>78.0</td>\n",
       "      <td>174.9</td>\n",
       "      <td>25.50</td>\n",
       "      <td>0.0</td>\n",
       "      <td>89.2</td>\n",
       "      <td>126.0</td>\n",
       "      <td>83.0</td>\n",
       "      <td>...</td>\n",
       "      <td>0.0</td>\n",
       "      <td>0</td>\n",
       "      <td>0.0</td>\n",
       "      <td>1</td>\n",
       "      <td>0.0</td>\n",
       "      <td>1</td>\n",
       "      <td>0.0</td>\n",
       "      <td>0.0</td>\n",
       "      <td>0.0</td>\n",
       "      <td>0.0</td>\n",
       "    </tr>\n",
       "    <tr>\n",
       "      <th>4485</th>\n",
       "      <td>75</td>\n",
       "      <td>F</td>\n",
       "      <td>north</td>\n",
       "      <td>78.8</td>\n",
       "      <td>176.5</td>\n",
       "      <td>25.30</td>\n",
       "      <td>0.0</td>\n",
       "      <td>100.4</td>\n",
       "      <td>129.0</td>\n",
       "      <td>50.0</td>\n",
       "      <td>...</td>\n",
       "      <td>0.0</td>\n",
       "      <td>1</td>\n",
       "      <td>1.0</td>\n",
       "      <td>0</td>\n",
       "      <td>1.0</td>\n",
       "      <td>1</td>\n",
       "      <td>0.0</td>\n",
       "      <td>0.0</td>\n",
       "      <td>0.0</td>\n",
       "      <td>0.0</td>\n",
       "    </tr>\n",
       "    <tr>\n",
       "      <th>4486</th>\n",
       "      <td>35</td>\n",
       "      <td>M</td>\n",
       "      <td>east</td>\n",
       "      <td>62.3</td>\n",
       "      <td>164.2</td>\n",
       "      <td>23.11</td>\n",
       "      <td>0.0</td>\n",
       "      <td>87.2</td>\n",
       "      <td>95.0</td>\n",
       "      <td>59.0</td>\n",
       "      <td>...</td>\n",
       "      <td>0.0</td>\n",
       "      <td>1</td>\n",
       "      <td>0.0</td>\n",
       "      <td>0</td>\n",
       "      <td>0.0</td>\n",
       "      <td>0</td>\n",
       "      <td>0.0</td>\n",
       "      <td>0.0</td>\n",
       "      <td>0.0</td>\n",
       "      <td>0.0</td>\n",
       "    </tr>\n",
       "  </tbody>\n",
       "</table>\n",
       "<p>4487 rows × 30 columns</p>\n",
       "</div>"
      ],
      "text/plain": [
       "      Age Gender Region  Weight  Height  Body Mass Index  Obesity  Waist  \\\n",
       "0      65      M   east    56.0   162.1            21.31      0.0   83.6   \n",
       "1      66      M   east    83.9   162.5            31.77      1.0  113.2   \n",
       "2      54      M   east    69.4   160.5            26.94      0.0   77.9   \n",
       "3      26      F   east   119.3   193.2            31.96      1.0  117.9   \n",
       "4      66      F  north    85.1   172.1            28.73      0.0   99.2   \n",
       "...   ...    ...    ...     ...     ...              ...      ...    ...   \n",
       "4482   77      F   east   109.3   185.8            31.66      1.0  117.2   \n",
       "4483   49      F   east    86.6   168.9            30.36      1.0   99.5   \n",
       "4484   30      F  north    78.0   174.9            25.50      0.0   89.2   \n",
       "4485   75      F  north    78.8   176.5            25.30      0.0  100.4   \n",
       "4486   35      M   east    62.3   164.2            23.11      0.0   87.2   \n",
       "\n",
       "      Maximum Blood Pressure  Minimum Blood Pressure  ...  PoorVision  \\\n",
       "0                      135.0                    71.0  ...         0.0   \n",
       "1                      115.0                    57.0  ...         0.0   \n",
       "2                      110.0                    57.0  ...         0.0   \n",
       "3                      129.0                    70.0  ...         0.0   \n",
       "4                      137.0                    92.0  ...         0.0   \n",
       "...                      ...                     ...  ...         ...   \n",
       "4482                   149.0                    77.0  ...         0.0   \n",
       "4483                   130.0                    75.0  ...         0.0   \n",
       "4484                   126.0                    83.0  ...         0.0   \n",
       "4485                   129.0                    50.0  ...         0.0   \n",
       "4486                    95.0                    59.0  ...         0.0   \n",
       "\n",
       "      Alcohol Consumption  HyperTension  Family  HyperTension  Diabetes  \\\n",
       "0                       1           0.0                     0       0.0   \n",
       "1                       1           0.0                     0       1.0   \n",
       "2                       1           0.0                     0       0.0   \n",
       "3                       0           0.0                     1       0.0   \n",
       "4                       0           1.0                     0       0.0   \n",
       "...                   ...           ...                   ...       ...   \n",
       "4482                    1           1.0                     0       0.0   \n",
       "4483                    0           1.0                     1       0.0   \n",
       "4484                    0           0.0                     1       0.0   \n",
       "4485                    1           1.0                     0       1.0   \n",
       "4486                    1           0.0                     0       0.0   \n",
       "\n",
       "      Family Diabetes  Hepatitis  Family Hepatitis  Chronic Fatigue  ALF  \n",
       "0                   1        1.0               0.0              0.0  0.0  \n",
       "1                   0        0.0               0.0              0.0  0.0  \n",
       "2                   0        0.0               0.0              0.0  0.0  \n",
       "3                   0        0.0               0.0              0.0  0.0  \n",
       "4                   0        0.0               0.0              0.0  0.0  \n",
       "...               ...        ...               ...              ...  ...  \n",
       "4482                0        0.0               0.0              0.0  1.0  \n",
       "4483                0        0.0               0.0              0.0  0.0  \n",
       "4484                1        0.0               0.0              0.0  0.0  \n",
       "4485                1        0.0               0.0              0.0  0.0  \n",
       "4486                0        0.0               0.0              0.0  0.0  \n",
       "\n",
       "[4487 rows x 30 columns]"
      ]
     },
     "execution_count": 14,
     "metadata": {},
     "output_type": "execute_result"
    }
   ],
   "source": [
    "df.reset_index(drop=True, inplace=True)\n",
    "df"
   ]
  },
  {
   "cell_type": "code",
   "execution_count": 15,
   "id": "433c1716",
   "metadata": {
    "scrolled": false
   },
   "outputs": [
    {
     "data": {
      "text/plain": [
       "Age                       0\n",
       "Gender                    0\n",
       "Region                    0\n",
       "Weight                    0\n",
       "Height                    0\n",
       "Body Mass Index           0\n",
       "Obesity                   0\n",
       "Waist                     0\n",
       "Maximum Blood Pressure    0\n",
       "Minimum Blood Pressure    0\n",
       "Good Cholesterol          0\n",
       "Bad Cholesterol           0\n",
       "Total Cholesterol         0\n",
       "Dyslipidemia              0\n",
       "PVD                       0\n",
       "Physical Activity         0\n",
       "Education                 0\n",
       "Unmarried                 0\n",
       "Income                    0\n",
       "Source of Care            0\n",
       "PoorVision                0\n",
       "Alcohol Consumption       0\n",
       "HyperTension              0\n",
       "Family  HyperTension      0\n",
       "Diabetes                  0\n",
       "Family Diabetes           0\n",
       "Hepatitis                 0\n",
       "Family Hepatitis          0\n",
       "Chronic Fatigue           0\n",
       "ALF                       0\n",
       "dtype: int64"
      ]
     },
     "execution_count": 15,
     "metadata": {},
     "output_type": "execute_result"
    }
   ],
   "source": [
    "#Doing one final check to see if all the null/empty values have been deleted/filled with mean\n",
    "df.isnull().sum()"
   ]
  },
  {
   "cell_type": "code",
   "execution_count": 16,
   "id": "101d7bfc",
   "metadata": {},
   "outputs": [
    {
     "data": {
      "text/plain": [
       "0"
      ]
     },
     "execution_count": 16,
     "metadata": {},
     "output_type": "execute_result"
    }
   ],
   "source": [
    "df.duplicated().sum()"
   ]
  },
  {
   "cell_type": "code",
   "execution_count": 17,
   "id": "76ed3d9d",
   "metadata": {
    "scrolled": true
   },
   "outputs": [
    {
     "name": "stdout",
     "output_type": "stream",
     "text": [
      "['M' 'F']\n",
      "['east' 'north' 'south' 'west']\n",
      "['Governament Hospital' 'Never Counsulted' 'Private Hospital' 'clinic' ' ']\n"
     ]
    }
   ],
   "source": [
    "#Outputting all the unique values in each categorical column\n",
    "print(df['Gender'].unique())\n",
    "print(df['Region'].unique())\n",
    "print(df['Source of Care'].unique())\n",
    "\n"
   ]
  },
  {
   "cell_type": "code",
   "execution_count": 18,
   "id": "d86fde5a",
   "metadata": {
    "scrolled": false
   },
   "outputs": [
    {
     "data": {
      "text/plain": [
       "Private Hospital        2678\n",
       "clinic                   923\n",
       "Never Counsulted         668\n",
       "Governament Hospital     217\n",
       "                           1\n",
       "Name: Source of Care, dtype: int64"
      ]
     },
     "execution_count": 18,
     "metadata": {},
     "output_type": "execute_result"
    }
   ],
   "source": [
    "#From above I noticed Source of Care has a value with no name so I checked how many instances of different values there are in that feature\n",
    "df['Source of Care'].value_counts()"
   ]
  },
  {
   "cell_type": "code",
   "execution_count": 19,
   "id": "df4c35d3",
   "metadata": {},
   "outputs": [
    {
     "name": "stdout",
     "output_type": "stream",
     "text": [
      "['Governament Hospital' 'Never Counsulted' 'Private Hospital' 'clinic']\n"
     ]
    }
   ],
   "source": [
    "#Since there was only 1 instance of ' ' occuring in that feature, I deleted that row as it wouldn't affect the data\n",
    "df.drop(df.loc[df['Source of Care']==' '].index, inplace=True)\n",
    "print(df['Source of Care'].unique())"
   ]
  },
  {
   "cell_type": "code",
   "execution_count": 20,
   "id": "aaa4a4a2",
   "metadata": {
    "scrolled": true
   },
   "outputs": [
    {
     "data": {
      "text/plain": [
       "(4486, 34)"
      ]
     },
     "execution_count": 20,
     "metadata": {},
     "output_type": "execute_result"
    }
   ],
   "source": [
    "#Making dummy variables using get_dummies and dropping the first dummy variable from each feature to avoid falling into 'dummy trap'\n",
    "df = pd.get_dummies(df, drop_first=True)\n",
    "df.shape"
   ]
  },
  {
   "cell_type": "code",
   "execution_count": 21,
   "id": "d4adfc17",
   "metadata": {},
   "outputs": [
    {
     "name": "stdout",
     "output_type": "stream",
     "text": [
      "Counter({0.0: 4176, 1.0: 310})\n"
     ]
    }
   ],
   "source": [
    "print(Counter(df['ALF']))"
   ]
  },
  {
   "cell_type": "code",
   "execution_count": 22,
   "id": "10ecd134",
   "metadata": {},
   "outputs": [
    {
     "data": {
      "text/html": [
       "<div>\n",
       "<style scoped>\n",
       "    .dataframe tbody tr th:only-of-type {\n",
       "        vertical-align: middle;\n",
       "    }\n",
       "\n",
       "    .dataframe tbody tr th {\n",
       "        vertical-align: top;\n",
       "    }\n",
       "\n",
       "    .dataframe thead th {\n",
       "        text-align: right;\n",
       "    }\n",
       "</style>\n",
       "<table border=\"1\" class=\"dataframe\">\n",
       "  <thead>\n",
       "    <tr style=\"text-align: right;\">\n",
       "      <th></th>\n",
       "      <th>Age</th>\n",
       "      <th>Weight</th>\n",
       "      <th>Height</th>\n",
       "      <th>Body Mass Index</th>\n",
       "      <th>Obesity</th>\n",
       "      <th>Waist</th>\n",
       "      <th>Maximum Blood Pressure</th>\n",
       "      <th>Minimum Blood Pressure</th>\n",
       "      <th>Good Cholesterol</th>\n",
       "      <th>Bad Cholesterol</th>\n",
       "      <th>...</th>\n",
       "      <th>Family Hepatitis</th>\n",
       "      <th>Chronic Fatigue</th>\n",
       "      <th>ALF</th>\n",
       "      <th>Gender_M</th>\n",
       "      <th>Region_north</th>\n",
       "      <th>Region_south</th>\n",
       "      <th>Region_west</th>\n",
       "      <th>Source of Care_Never Counsulted</th>\n",
       "      <th>Source of Care_Private Hospital</th>\n",
       "      <th>Source of Care_clinic</th>\n",
       "    </tr>\n",
       "  </thead>\n",
       "  <tbody>\n",
       "    <tr>\n",
       "      <th>0</th>\n",
       "      <td>65</td>\n",
       "      <td>56.0</td>\n",
       "      <td>162.1</td>\n",
       "      <td>21.31</td>\n",
       "      <td>0.0</td>\n",
       "      <td>83.6</td>\n",
       "      <td>135.0</td>\n",
       "      <td>71.0</td>\n",
       "      <td>48.0</td>\n",
       "      <td>249.0</td>\n",
       "      <td>...</td>\n",
       "      <td>0.0</td>\n",
       "      <td>0.0</td>\n",
       "      <td>0.0</td>\n",
       "      <td>1</td>\n",
       "      <td>0</td>\n",
       "      <td>0</td>\n",
       "      <td>0</td>\n",
       "      <td>0</td>\n",
       "      <td>0</td>\n",
       "      <td>0</td>\n",
       "    </tr>\n",
       "    <tr>\n",
       "      <th>1</th>\n",
       "      <td>66</td>\n",
       "      <td>83.9</td>\n",
       "      <td>162.5</td>\n",
       "      <td>31.77</td>\n",
       "      <td>1.0</td>\n",
       "      <td>113.2</td>\n",
       "      <td>115.0</td>\n",
       "      <td>57.0</td>\n",
       "      <td>44.0</td>\n",
       "      <td>211.0</td>\n",
       "      <td>...</td>\n",
       "      <td>0.0</td>\n",
       "      <td>0.0</td>\n",
       "      <td>0.0</td>\n",
       "      <td>1</td>\n",
       "      <td>0</td>\n",
       "      <td>0</td>\n",
       "      <td>0</td>\n",
       "      <td>1</td>\n",
       "      <td>0</td>\n",
       "      <td>0</td>\n",
       "    </tr>\n",
       "    <tr>\n",
       "      <th>2</th>\n",
       "      <td>54</td>\n",
       "      <td>69.4</td>\n",
       "      <td>160.5</td>\n",
       "      <td>26.94</td>\n",
       "      <td>0.0</td>\n",
       "      <td>77.9</td>\n",
       "      <td>110.0</td>\n",
       "      <td>57.0</td>\n",
       "      <td>74.0</td>\n",
       "      <td>156.0</td>\n",
       "      <td>...</td>\n",
       "      <td>0.0</td>\n",
       "      <td>0.0</td>\n",
       "      <td>0.0</td>\n",
       "      <td>1</td>\n",
       "      <td>0</td>\n",
       "      <td>0</td>\n",
       "      <td>0</td>\n",
       "      <td>0</td>\n",
       "      <td>1</td>\n",
       "      <td>0</td>\n",
       "    </tr>\n",
       "    <tr>\n",
       "      <th>3</th>\n",
       "      <td>26</td>\n",
       "      <td>119.3</td>\n",
       "      <td>193.2</td>\n",
       "      <td>31.96</td>\n",
       "      <td>1.0</td>\n",
       "      <td>117.9</td>\n",
       "      <td>129.0</td>\n",
       "      <td>70.0</td>\n",
       "      <td>43.0</td>\n",
       "      <td>159.0</td>\n",
       "      <td>...</td>\n",
       "      <td>0.0</td>\n",
       "      <td>0.0</td>\n",
       "      <td>0.0</td>\n",
       "      <td>0</td>\n",
       "      <td>0</td>\n",
       "      <td>0</td>\n",
       "      <td>0</td>\n",
       "      <td>0</td>\n",
       "      <td>1</td>\n",
       "      <td>0</td>\n",
       "    </tr>\n",
       "    <tr>\n",
       "      <th>4</th>\n",
       "      <td>66</td>\n",
       "      <td>85.1</td>\n",
       "      <td>172.1</td>\n",
       "      <td>28.73</td>\n",
       "      <td>0.0</td>\n",
       "      <td>99.2</td>\n",
       "      <td>137.0</td>\n",
       "      <td>92.0</td>\n",
       "      <td>41.0</td>\n",
       "      <td>143.0</td>\n",
       "      <td>...</td>\n",
       "      <td>0.0</td>\n",
       "      <td>0.0</td>\n",
       "      <td>0.0</td>\n",
       "      <td>0</td>\n",
       "      <td>1</td>\n",
       "      <td>0</td>\n",
       "      <td>0</td>\n",
       "      <td>0</td>\n",
       "      <td>1</td>\n",
       "      <td>0</td>\n",
       "    </tr>\n",
       "  </tbody>\n",
       "</table>\n",
       "<p>5 rows × 34 columns</p>\n",
       "</div>"
      ],
      "text/plain": [
       "   Age  Weight  Height  Body Mass Index  Obesity  Waist  \\\n",
       "0   65    56.0   162.1            21.31      0.0   83.6   \n",
       "1   66    83.9   162.5            31.77      1.0  113.2   \n",
       "2   54    69.4   160.5            26.94      0.0   77.9   \n",
       "3   26   119.3   193.2            31.96      1.0  117.9   \n",
       "4   66    85.1   172.1            28.73      0.0   99.2   \n",
       "\n",
       "   Maximum Blood Pressure  Minimum Blood Pressure  Good Cholesterol  \\\n",
       "0                   135.0                    71.0              48.0   \n",
       "1                   115.0                    57.0              44.0   \n",
       "2                   110.0                    57.0              74.0   \n",
       "3                   129.0                    70.0              43.0   \n",
       "4                   137.0                    92.0              41.0   \n",
       "\n",
       "   Bad Cholesterol  ...  Family Hepatitis  Chronic Fatigue  ALF  Gender_M  \\\n",
       "0            249.0  ...               0.0              0.0  0.0         1   \n",
       "1            211.0  ...               0.0              0.0  0.0         1   \n",
       "2            156.0  ...               0.0              0.0  0.0         1   \n",
       "3            159.0  ...               0.0              0.0  0.0         0   \n",
       "4            143.0  ...               0.0              0.0  0.0         0   \n",
       "\n",
       "   Region_north  Region_south  Region_west  Source of Care_Never Counsulted  \\\n",
       "0             0             0            0                                0   \n",
       "1             0             0            0                                1   \n",
       "2             0             0            0                                0   \n",
       "3             0             0            0                                0   \n",
       "4             1             0            0                                0   \n",
       "\n",
       "   Source of Care_Private Hospital  Source of Care_clinic  \n",
       "0                                0                      0  \n",
       "1                                0                      0  \n",
       "2                                1                      0  \n",
       "3                                1                      0  \n",
       "4                                1                      0  \n",
       "\n",
       "[5 rows x 34 columns]"
      ]
     },
     "execution_count": 22,
     "metadata": {},
     "output_type": "execute_result"
    }
   ],
   "source": [
    "df.head()"
   ]
  },
  {
   "cell_type": "markdown",
   "id": "b69c4abe",
   "metadata": {},
   "source": [
    "# Splitting the dataset"
   ]
  },
  {
   "cell_type": "code",
   "execution_count": 23,
   "id": "e6268fb8",
   "metadata": {},
   "outputs": [],
   "source": [
    "#Splitting the original data into testing and training splits. 20% goes to testing, 80% goes to training. \n",
    "X= df.drop('ALF', axis=1)\n",
    "y=df['ALF']\n",
    "X_train, X_test, y_train, y_test = train_test_split(X, y, test_size=0.2, random_state=42)"
   ]
  },
  {
   "cell_type": "code",
   "execution_count": 24,
   "id": "3956cd34",
   "metadata": {},
   "outputs": [
    {
     "data": {
      "text/plain": [
       "(4486, 34)"
      ]
     },
     "execution_count": 24,
     "metadata": {},
     "output_type": "execute_result"
    }
   ],
   "source": [
    "#Making a seperate df 'oversampled_df' to perform oversampled algorithms on\n",
    "oversampled_df=df.copy()\n",
    "oversampled_df.shape"
   ]
  },
  {
   "cell_type": "code",
   "execution_count": 25,
   "id": "4969c2a7",
   "metadata": {},
   "outputs": [
    {
     "name": "stdout",
     "output_type": "stream",
     "text": [
      "Counter({0.0: 4176, 1.0: 4176})\n",
      "(6681, 33)\n",
      "(1671, 33)\n",
      "(6681,)\n",
      "(1671,)\n"
     ]
    }
   ],
   "source": [
    "#Splitting the oversampled dataset using RandomOverSampler and using 'minority' as the sampling strategy.\n",
    "#This means the instance that occurs the least (1) will be oversampled\n",
    "over = RandomOverSampler(sampling_strategy='minority')\n",
    "X_over = oversampled_df.drop('ALF', axis=1)\n",
    "y_over=oversampled_df['ALF']\n",
    "X_over, y_over = over.fit_resample(X_over, y_over)\n",
    "X_train_over, X_test_over, y_train_over, y_test_over= train_test_split(X_over, y_over, test_size=0.2, random_state=42)\n",
    "print(Counter(y_over))\n",
    "print(X_train_over.shape)\n",
    "print(X_test_over.shape)\n",
    "print(y_train_over.shape)\n",
    "print(y_test_over.shape)"
   ]
  },
  {
   "cell_type": "code",
   "execution_count": 26,
   "id": "12bafc2e",
   "metadata": {},
   "outputs": [
    {
     "name": "stdout",
     "output_type": "stream",
     "text": [
      "(3588, 33)\n",
      "(898, 33)\n",
      "(6681, 33)\n",
      "(1671, 33)\n"
     ]
    }
   ],
   "source": [
    "#Creating an instance of the MinMaxScaler() class and scaling test and train into storing them in variables 'X_train_scaled' and 'X_test_scaled'\n",
    "sc = MinMaxScaler()\n",
    "X_train_scaled = sc.fit_transform(X_train)\n",
    "X_test_scaled = sc.transform(X_test)\n",
    "X_train_over_scaled= sc.fit_transform(X_train_over)\n",
    "X_test_over_scaled=sc.transform(X_test_over)\n",
    "print(X_train_scaled.shape)\n",
    "print(X_test_scaled.shape)\n",
    "print(X_train_over_scaled.shape)\n",
    "print(X_test_over_scaled.shape)"
   ]
  },
  {
   "cell_type": "markdown",
   "id": "d34a00eb",
   "metadata": {},
   "source": [
    "# Defining functions"
   ]
  },
  {
   "cell_type": "code",
   "execution_count": 27,
   "id": "46efa264",
   "metadata": {},
   "outputs": [],
   "source": [
    "#Defining a function \"confusionMat\" to produce a confusion matrix for every learning model used on this dataset\n",
    "def confusionMat(y_test, y_test_pred):\n",
    "    matrix = confusion_matrix(y_test, y_test_pred, normalize='true')\n",
    "    fig = plt.figure()\n",
    "    plot = fig.add_subplot()\n",
    "    sns.heatmap(matrix, annot=True, ax = plot)\n",
    "    plot.set_xlabel('Predicted labels')\n",
    "    plot.set_ylabel('True labels')\n"
   ]
  },
  {
   "cell_type": "markdown",
   "id": "1e8d08ff",
   "metadata": {},
   "source": [
    "# Applying learning models"
   ]
  },
  {
   "cell_type": "markdown",
   "id": "b2fc8352",
   "metadata": {},
   "source": [
    "### Logistic Regression"
   ]
  },
  {
   "cell_type": "code",
   "execution_count": 28,
   "id": "cb489662",
   "metadata": {
    "scrolled": true
   },
   "outputs": [
    {
     "name": "stdout",
     "output_type": "stream",
     "text": [
      "Logistic Regression model: \n",
      "\n",
      "Time taken to compute: 0.528\n",
      "The accuracy of the training set: 0.932\n",
      "The accuracy of the testing set: 0.931\n",
      "The cross validation score of the model: 0.929\n",
      "The classification report for this model:\n",
      "\n",
      "              precision    recall  f1-score   support\n",
      "\n",
      "           0       0.93      1.00      0.96       834\n",
      "           1       0.62      0.08      0.14        64\n",
      "\n",
      "    accuracy                           0.93       898\n",
      "   macro avg       0.78      0.54      0.55       898\n",
      "weighted avg       0.91      0.93      0.91       898\n",
      "\n",
      "Confusion matrix for the model: \n"
     ]
    },
    {
     "data": {
      "image/png": "[encoded data removed]",
      "text/plain": [
       "<Figure size 432x288 with 2 Axes>"
      ]
     },
     "metadata": {
      "needs_background": "light"
     },
     "output_type": "display_data"
    }
   ],
   "source": [
    "#Making a variable 'start_time' to calculate how long it takes to process\n",
    "start_time=time.time()\n",
    "\n",
    "#Creating the instance of the LogisticRegression model and training it using the dataset\n",
    "model=LogisticRegression()\n",
    "model.fit(X_train, y_train)\n",
    "logistic_accuracy=model.score(X_test, y_test)\n",
    "training_score=model.score(X_train, y_train)\n",
    "y_test_pred=model.predict(X_test)\n",
    "cross_val= cross_val_score(model, X, y, cv=5, scoring='accuracy')\n",
    "\n",
    "\n",
    "#Creating 'df_labels' for the confusion matrix\n",
    "df_labels= ['0', '1']\n",
    "\n",
    "#Outputting the results from the model\n",
    "print(\"Logistic Regression model: \\n\")\n",
    "print(\"Time taken to compute: {:.3f}\".format(time.time()-start_time))\n",
    "print(\"The accuracy of the training set: {:.3f}\".format(training_score))\n",
    "print(\"The accuracy of the testing set: {:.3f}\".format(logistic_accuracy))\n",
    "print(\"The cross validation score of the model: {:.3f}\".format(cross_val.mean()))\n",
    "print(\"The classification report for this model:\\n\")\n",
    "print(classification_report(y_test, y_test_pred, target_names=df_labels))\n",
    "print(\"Confusion matrix for the model: \")\n",
    "\n",
    "#Calling the confusionMat function to produce the confusion matrix for this model\n",
    "confusionMat(y_test, y_test_pred)"
   ]
  },
  {
   "cell_type": "markdown",
   "id": "14a5a182",
   "metadata": {},
   "source": [
    "### Logistic Regression Oversampled"
   ]
  },
  {
   "cell_type": "code",
   "execution_count": 29,
   "id": "2facbf2a",
   "metadata": {
    "scrolled": true
   },
   "outputs": [
    {
     "name": "stdout",
     "output_type": "stream",
     "text": [
      "Logistic Regression Oversampled model: \n",
      "\n",
      "Time taken to compute: 1.012\n",
      "The accuracy of the training set: 0.819\n",
      "The accuracy of the testing set: 0.831\n",
      "The cross validation score of the model: 0.819\n",
      "The classification report for this model:\n",
      "\n",
      "              precision    recall  f1-score   support\n",
      "\n",
      "           0       0.86      0.78      0.82       827\n",
      "           1       0.80      0.88      0.84       844\n",
      "\n",
      "    accuracy                           0.83      1671\n",
      "   macro avg       0.83      0.83      0.83      1671\n",
      "weighted avg       0.83      0.83      0.83      1671\n",
      "\n",
      "Confusion matrix for the model: \n"
     ]
    },
    {
     "data": {
      "image/png": "[encoded data removed]",
      "text/plain": [
       "<Figure size 432x288 with 2 Axes>"
      ]
     },
     "metadata": {
      "needs_background": "light"
     },
     "output_type": "display_data"
    }
   ],
   "source": [
    "#Making a variable 'start_time' to calculate how long it takes to process\n",
    "start_time=time.time()\n",
    "\n",
    "#Creating the instance of the LogisticRegression model and training it using the oversampled dataset\n",
    "model=LogisticRegression()\n",
    "model.fit(X_train_over, y_train_over)\n",
    "logistic_over_accuracy=model.score(X_test_over, y_test_over)\n",
    "training_score=model.score(X_train_over, y_train_over)\n",
    "y_test_pred=model.predict(X_test_over)\n",
    "cross_val= cross_val_score(model, X_over, y_over, cv=5, scoring='accuracy')\n",
    "\n",
    "\n",
    "#Creating 'df_labels' for the confusion matrix\n",
    "df_labels= ['0', '1']\n",
    "\n",
    "#Outputting the results from the model\n",
    "print(\"Logistic Regression Oversampled model: \\n\")\n",
    "print(\"Time taken to compute: {:.3f}\".format(time.time()-start_time))\n",
    "print(\"The accuracy of the training set: {:.3f}\".format(training_score))\n",
    "print(\"The accuracy of the testing set: {:.3f}\".format(logistic_over_accuracy))\n",
    "print(\"The cross validation score of the model: {:.3f}\".format(cross_val.mean()))\n",
    "print(\"The classification report for this model:\\n\")\n",
    "print(classification_report(y_test_over, y_test_pred, target_names=df_labels))\n",
    "print(\"Confusion matrix for the model: \")\n",
    "\n",
    "#Calling the confusionMat function to produce the confusion matrix for this model\n",
    "confusionMat(y_test_over, y_test_pred)"
   ]
  },
  {
   "cell_type": "markdown",
   "id": "20dec431",
   "metadata": {},
   "source": [
    "### Logistic Regression MinMax Scaler"
   ]
  },
  {
   "cell_type": "code",
   "execution_count": 30,
   "id": "da57f525",
   "metadata": {
    "scrolled": true
   },
   "outputs": [
    {
     "name": "stdout",
     "output_type": "stream",
     "text": [
      "Logistic Regression MinMax model: \n",
      "\n",
      "Time taken to compute: 0.502\n",
      "The accuracy of the training set: 0.933\n",
      "The accuracy of the testing set: 0.933\n",
      "The cross validation score of the model: 0.929\n",
      "The classification report for this model:\n",
      "\n",
      "              precision    recall  f1-score   support\n",
      "\n",
      "           0       0.94      0.99      0.97       834\n",
      "           1       0.64      0.14      0.23        64\n",
      "\n",
      "    accuracy                           0.93       898\n",
      "   macro avg       0.79      0.57      0.60       898\n",
      "weighted avg       0.92      0.93      0.91       898\n",
      "\n",
      "Confusion matrix for the model: \n"
     ]
    },
    {
     "data": {
      "image/png": "[encoded data removed]",
      "text/plain": [
       "<Figure size 432x288 with 2 Axes>"
      ]
     },
     "metadata": {
      "needs_background": "light"
     },
     "output_type": "display_data"
    }
   ],
   "source": [
    "#Making a variable 'start_time' to calculate how long it takes to process\n",
    "start_time=time.time()\n",
    "\n",
    "#Creating the instance of the LogisticRegression model and training it using the feature scaled dataset\n",
    "model=LogisticRegression()\n",
    "model.fit(X_train_scaled, y_train)\n",
    "logistic_scaled_accuracy=model.score(X_test_scaled, y_test)\n",
    "training_score=model.score(X_train_scaled, y_train)\n",
    "y_test_pred=model.predict(X_test_scaled)\n",
    "cross_val= cross_val_score(model, X, y, cv=5, scoring='accuracy')\n",
    "\n",
    "\n",
    "#Creating 'df_labels' for the confusion matrix\n",
    "df_labels= ['0', '1']\n",
    "\n",
    "#Outputting the results from the model\n",
    "print(\"Logistic Regression MinMax model: \\n\")\n",
    "print(\"Time taken to compute: {:.3f}\".format(time.time()-start_time))\n",
    "print(\"The accuracy of the training set: {:.3f}\".format(training_score))\n",
    "print(\"The accuracy of the testing set: {:.3f}\".format(logistic_scaled_accuracy))\n",
    "print(\"The cross validation score of the model: {:.3f}\".format(cross_val.mean()))\n",
    "print(\"The classification report for this model:\\n\")\n",
    "print(classification_report(y_test, y_test_pred, target_names=df_labels))\n",
    "print(\"Confusion matrix for the model: \")\n",
    "\n",
    "#Calling the confusionMat function to produce the confusion matrix for this model\n",
    "confusionMat(y_test, y_test_pred)"
   ]
  },
  {
   "cell_type": "markdown",
   "id": "b7737297",
   "metadata": {},
   "source": [
    "### Logistic Regression Oversampled MinMax Scaler "
   ]
  },
  {
   "cell_type": "code",
   "execution_count": 31,
   "id": "8f23386b",
   "metadata": {},
   "outputs": [
    {
     "name": "stdout",
     "output_type": "stream",
     "text": [
      "Logistic Regression Oversampled MinMax model: \n",
      "\n",
      "Time taken to compute: 0.791\n",
      "The accuracy of the training set: 0.828\n",
      "The accuracy of the testing set: 0.838\n",
      "The cross validation score of the model: 0.819\n",
      "The classification report for this model:\n",
      "\n",
      "              precision    recall  f1-score   support\n",
      "\n",
      "           0       0.86      0.80      0.83       827\n",
      "           1       0.82      0.88      0.85       844\n",
      "\n",
      "    accuracy                           0.84      1671\n",
      "   macro avg       0.84      0.84      0.84      1671\n",
      "weighted avg       0.84      0.84      0.84      1671\n",
      "\n",
      "Confusion matrix for the model: \n"
     ]
    },
    {
     "data": {
      "image/png": "[encoded data removed]",
      "text/plain": [
       "<Figure size 432x288 with 2 Axes>"
      ]
     },
     "metadata": {
      "needs_background": "light"
     },
     "output_type": "display_data"
    }
   ],
   "source": [
    "#Making a variable 'start_time' to calculate how long it takes to process\n",
    "start_time=time.time()\n",
    "\n",
    "#Creating the instance of the LogisticRegression model and training it using the oversampled feature scaled dataset\n",
    "model=LogisticRegression()\n",
    "model.fit(X_train_over_scaled, y_train_over)\n",
    "logistic_over_scaled_accuracy=model.score(X_test_over_scaled, y_test_over)\n",
    "training_score=model.score(X_train_over_scaled, y_train_over)\n",
    "y_test_pred=model.predict(X_test_over_scaled)\n",
    "cross_val= cross_val_score(model, X_over, y_over, cv=5, scoring='accuracy')\n",
    "\n",
    "\n",
    "#Creating 'df_labels' for the confusion matrix\n",
    "df_labels= ['0', '1']\n",
    "\n",
    "#Outputting the results from the model\n",
    "print(\"Logistic Regression Oversampled MinMax model: \\n\")\n",
    "print(\"Time taken to compute: {:.3f}\".format(time.time()-start_time))\n",
    "print(\"The accuracy of the training set: {:.3f}\".format(training_score))\n",
    "print(\"The accuracy of the testing set: {:.3f}\".format(logistic_over_scaled_accuracy))\n",
    "print(\"The cross validation score of the model: {:.3f}\".format(cross_val.mean()))\n",
    "print(\"The classification report for this model:\\n\")\n",
    "print(classification_report(y_test_over, y_test_pred, target_names=df_labels))\n",
    "print(\"Confusion matrix for the model: \")\n",
    "\n",
    "#Calling the confusionMat function to produce the confusion matrix for this model\n",
    "confusionMat(y_test_over, y_test_pred)"
   ]
  },
  {
   "cell_type": "markdown",
   "id": "098c1450",
   "metadata": {},
   "source": [
    "### Visualizing Logistic Regression Models accuracy "
   ]
  },
  {
   "cell_type": "code",
   "execution_count": 32,
   "id": "5c300777",
   "metadata": {},
   "outputs": [
    {
     "data": {
      "text/plain": [
       "Text(0.5, 0, 'Models')"
      ]
     },
     "execution_count": 32,
     "metadata": {},
     "output_type": "execute_result"
    },
    {
     "data": {
      "image/png": "[encoded data removed]",
      "text/plain": [
       "<Figure size 1440x1440 with 1 Axes>"
      ]
     },
     "metadata": {
      "needs_background": "light"
     },
     "output_type": "display_data"
    }
   ],
   "source": [
    "#Making a dataframe of all the logistic regression models\n",
    "logistic_models=[['LR', logistic_accuracy*100],\n",
    "                  ['LR Oversampled', logistic_over_accuracy*100],\n",
    "                  ['LR Scaled', logistic_scaled_accuracy*100],\n",
    "                  ['LR Oversampled Scaled', logistic_over_scaled_accuracy*100]\n",
    "                 ]\n",
    "logistic_models_df = pd.DataFrame(logistic_models,columns=['Model','Accuracy'])\n",
    "\n",
    "#Making a barplot using all the logistic regression accuracies\n",
    "fig = plt.figure(figsize=(20,20))\n",
    "sns.set()\n",
    "sns.barplot(x='Model',y='Accuracy',data=logistic_models_df)\n",
    "plt.title(\"Logistic Regression Models\", size=20)\n",
    "plt.xticks(size=15)\n",
    "plt.ylabel('Accuracy of Models',size=20)\n",
    "plt.xlabel('Models',size=20)"
   ]
  },
  {
   "cell_type": "markdown",
   "id": "bbf948e7",
   "metadata": {},
   "source": [
    "### Random Forest "
   ]
  },
  {
   "cell_type": "code",
   "execution_count": 33,
   "id": "df2939cc",
   "metadata": {
    "scrolled": true
   },
   "outputs": [
    {
     "name": "stdout",
     "output_type": "stream",
     "text": [
      "Random Forest model: \n",
      "\n",
      "Time taken to compute: 4.016\n",
      "The accuracy of the training set: 1.000\n",
      "The accuracy of the testing set: 0.931\n",
      "The cross validation score of the model: 0.930\n",
      "The classification report for this model:\n",
      "\n",
      "              precision    recall  f1-score   support\n",
      "\n",
      "           0       0.93      1.00      0.96       834\n",
      "           1       0.67      0.06      0.11        64\n",
      "\n",
      "    accuracy                           0.93       898\n",
      "   macro avg       0.80      0.53      0.54       898\n",
      "weighted avg       0.91      0.93      0.90       898\n",
      "\n",
      "Confusion matrix for the model: \n"
     ]
    },
    {
     "data": {
      "image/png": "[encoded data removed]",
      "text/plain": [
       "<Figure size 432x288 with 2 Axes>"
      ]
     },
     "metadata": {},
     "output_type": "display_data"
    }
   ],
   "source": [
    "#Making a variable 'start_time' to calculate how long it takes to process\n",
    "start_time=time.time()\n",
    "\n",
    "#Creating the instance of the RandomForest model and training it using the dataset\n",
    "model=RandomForestClassifier()\n",
    "model.fit(X_train, y_train)\n",
    "rf_accuracy=model.score(X_test, y_test)\n",
    "training_score=model.score(X_train, y_train)\n",
    "y_test_pred=model.predict(X_test)\n",
    "cross_val= cross_val_score(model, X, y, cv=5, scoring='accuracy')\n",
    "\n",
    "\n",
    "#Creating 'df_labels' for the confusion matrix\n",
    "df_labels= ['0', '1']\n",
    "\n",
    "#Outputting the results from the model\n",
    "print(\"Random Forest model: \\n\")\n",
    "print(\"Time taken to compute: {:.3f}\".format(time.time()-start_time))\n",
    "print(\"The accuracy of the training set: {:.3f}\".format(training_score))\n",
    "print(\"The accuracy of the testing set: {:.3f}\".format(rf_accuracy))\n",
    "print(\"The cross validation score of the model: {:.3f}\".format(cross_val.mean()))\n",
    "print(\"The classification report for this model:\\n\")\n",
    "print(classification_report(y_test, y_test_pred, target_names=df_labels))\n",
    "print(\"Confusion matrix for the model: \")\n",
    "\n",
    "#Calling the confusionMat function to produce the confusion matrix for this model\n",
    "confusionMat(y_test, y_test_pred)"
   ]
  },
  {
   "cell_type": "markdown",
   "id": "d0c32521",
   "metadata": {},
   "source": [
    "### Random Forest Oversampled"
   ]
  },
  {
   "cell_type": "code",
   "execution_count": 34,
   "id": "b1b32ce8",
   "metadata": {
    "scrolled": true
   },
   "outputs": [
    {
     "name": "stdout",
     "output_type": "stream",
     "text": [
      "Random Forest Oversampled model: \n",
      "\n",
      "Time taken to compute: 5.581\n",
      "The accuracy of the training set: 1.000\n",
      "The accuracy of the testing set: 0.992\n",
      "The cross validation score of the model: 0.991\n",
      "The classification report for this model:\n",
      "\n",
      "              precision    recall  f1-score   support\n",
      "\n",
      "           0       1.00      0.98      0.99       827\n",
      "           1       0.98      1.00      0.99       844\n",
      "\n",
      "    accuracy                           0.99      1671\n",
      "   macro avg       0.99      0.99      0.99      1671\n",
      "weighted avg       0.99      0.99      0.99      1671\n",
      "\n",
      "Confusion matrix for the model: \n"
     ]
    },
    {
     "data": {
      "image/png": "[encoded data removed]",
      "text/plain": [
       "<Figure size 432x288 with 2 Axes>"
      ]
     },
     "metadata": {},
     "output_type": "display_data"
    }
   ],
   "source": [
    "#Making a variable 'start_time' to calculate how long it takes to process\n",
    "start_time=time.time()\n",
    "\n",
    "#Creating the instance of the RandomForest model and training it using the oversampled dataset\n",
    "model=RandomForestClassifier()\n",
    "model.fit(X_train_over, y_train_over)\n",
    "rf_over_accuracy=model.score(X_test_over, y_test_over)\n",
    "training_score=model.score(X_train_over, y_train_over)\n",
    "y_test_pred=model.predict(X_test_over)\n",
    "cross_val= cross_val_score(model, X_over, y_over, cv=5, scoring='accuracy')\n",
    "\n",
    "#Creating 'df_labels' for the confusion matrix\n",
    "df_labels= ['0', '1']\n",
    "\n",
    "#Outputting the results from the model\n",
    "print(\"Random Forest Oversampled model: \\n\")\n",
    "print(\"Time taken to compute: {:.3f}\".format(time.time()-start_time))\n",
    "print(\"The accuracy of the training set: {:.3f}\".format(training_score))\n",
    "print(\"The accuracy of the testing set: {:.3f}\".format(rf_over_accuracy))\n",
    "print(\"The cross validation score of the model: {:.3f}\".format(cross_val.mean()))\n",
    "print(\"The classification report for this model:\\n\")\n",
    "print(classification_report(y_test_over, y_test_pred, target_names=df_labels))\n",
    "print(\"Confusion matrix for the model: \")\n",
    "\n",
    "#Calling the confusionMat function to produce the confusion matrix for this model\n",
    "confusionMat(y_test_over, y_test_pred)"
   ]
  },
  {
   "cell_type": "markdown",
   "id": "b05c06be",
   "metadata": {},
   "source": [
    "### Random Forest MinMax Scaler"
   ]
  },
  {
   "cell_type": "code",
   "execution_count": 35,
   "id": "87f0933c",
   "metadata": {
    "scrolled": true
   },
   "outputs": [
    {
     "name": "stdout",
     "output_type": "stream",
     "text": [
      "Random Forest MinMax model: \n",
      "\n",
      "Time taken to compute: 4.103\n",
      "The accuracy of the training set: 1.000\n",
      "The accuracy of the testing set: 0.933\n",
      "The cross validation score of the model: 0.930\n",
      "The classification report for this model:\n",
      "\n",
      "              precision    recall  f1-score   support\n",
      "\n",
      "           0       0.93      1.00      0.97       834\n",
      "           1       1.00      0.06      0.12        64\n",
      "\n",
      "    accuracy                           0.93       898\n",
      "   macro avg       0.97      0.53      0.54       898\n",
      "weighted avg       0.94      0.93      0.90       898\n",
      "\n",
      "Confusion matrix for the model: \n"
     ]
    },
    {
     "data": {
      "image/png": "[encoded data removed]",
      "text/plain": [
       "<Figure size 432x288 with 2 Axes>"
      ]
     },
     "metadata": {},
     "output_type": "display_data"
    }
   ],
   "source": [
    "#Making a variable 'start_time' to calculate how long it takes to process\n",
    "start_time=time.time()\n",
    "\n",
    "#Creating the instance of the RandomForest model and training it using the scaled dataset\n",
    "model=RandomForestClassifier()\n",
    "model.fit(X_train_scaled, y_train)\n",
    "rf_scaled_accuracy=model.score(X_test_scaled, y_test)\n",
    "training_score=model.score(X_train_scaled, y_train)\n",
    "y_test_pred=model.predict(X_test_scaled)\n",
    "cross_val= cross_val_score(model, X, y, cv=5, scoring='accuracy')\n",
    "\n",
    "#Creating 'df_labels' for the confusion matrix\n",
    "df_labels= ['0', '1']\n",
    "\n",
    "#Outputting the results from the model\n",
    "print(\"Random Forest MinMax model: \\n\")\n",
    "print(\"Time taken to compute: {:.3f}\".format(time.time()-start_time))\n",
    "print(\"The accuracy of the training set: {:.3f}\".format(training_score))\n",
    "print(\"The accuracy of the testing set: {:.3f}\".format(rf_scaled_accuracy))\n",
    "print(\"The cross validation score of the model: {:.3f}\".format(cross_val.mean()))\n",
    "print(\"The classification report for this model:\\n\")\n",
    "print(classification_report(y_test, y_test_pred, target_names=df_labels))\n",
    "print(\"Confusion matrix for the model: \")\n",
    "\n",
    "#Calling the confusionMat function to produce the confusion matrix for this model\n",
    "confusionMat(y_test, y_test_pred)"
   ]
  },
  {
   "cell_type": "markdown",
   "id": "938aa866",
   "metadata": {},
   "source": [
    "### Random Forest Oversampled MinMax Scaler "
   ]
  },
  {
   "cell_type": "code",
   "execution_count": 36,
   "id": "05f4a1b3",
   "metadata": {},
   "outputs": [
    {
     "name": "stdout",
     "output_type": "stream",
     "text": [
      "Random Forest Oversampled MinMax model: \n",
      "\n",
      "Time taken to compute: 6.342\n",
      "The accuracy of the training set: 1.000\n",
      "The accuracy of the testing set: 0.991\n",
      "The cross validation score of the model: 0.990\n",
      "The classification report for this model:\n",
      "\n",
      "              precision    recall  f1-score   support\n",
      "\n",
      "           0       1.00      0.98      0.99       827\n",
      "           1       0.98      1.00      0.99       844\n",
      "\n",
      "    accuracy                           0.99      1671\n",
      "   macro avg       0.99      0.99      0.99      1671\n",
      "weighted avg       0.99      0.99      0.99      1671\n",
      "\n",
      "Confusion matrix for the model: \n"
     ]
    },
    {
     "data": {
      "image/png": "[encoded data removed]",
      "text/plain": [
       "<Figure size 432x288 with 2 Axes>"
      ]
     },
     "metadata": {},
     "output_type": "display_data"
    }
   ],
   "source": [
    "#Making a variable 'start_time' to calculate how long it takes to process\n",
    "start_time=time.time()\n",
    "\n",
    "#Creating the instance of the Random Forest model and training it using the oversampled feature scaled dataset\n",
    "model=RandomForestClassifier()\n",
    "model.fit(X_train_over_scaled, y_train_over)\n",
    "rf_over_scaled_accuracy=model.score(X_test_over_scaled, y_test_over)\n",
    "training_score=model.score(X_train_over_scaled, y_train_over)\n",
    "y_test_pred=model.predict(X_test_over_scaled)\n",
    "cross_val= cross_val_score(model, X_over, y_over, cv=5, scoring='accuracy')\n",
    "\n",
    "\n",
    "#Creating 'df_labels' for the confusion matrix\n",
    "df_labels= ['0', '1']\n",
    "\n",
    "#Outputting the results from the model\n",
    "print(\"Random Forest Oversampled MinMax model: \\n\")\n",
    "print(\"Time taken to compute: {:.3f}\".format(time.time()-start_time))\n",
    "print(\"The accuracy of the training set: {:.3f}\".format(training_score))\n",
    "print(\"The accuracy of the testing set: {:.3f}\".format(rf_over_scaled_accuracy))\n",
    "print(\"The cross validation score of the model: {:.3f}\".format(cross_val.mean()))\n",
    "print(\"The classification report for this model:\\n\")\n",
    "print(classification_report(y_test_over, y_test_pred, target_names=df_labels))\n",
    "print(\"Confusion matrix for the model: \")\n",
    "\n",
    "#Calling the confusionMat function to produce the confusion matrix for this model\n",
    "confusionMat(y_test_over, y_test_pred)"
   ]
  },
  {
   "cell_type": "markdown",
   "id": "47b03222",
   "metadata": {},
   "source": [
    "### Visualizing Random Forest Models accuracy "
   ]
  },
  {
   "cell_type": "code",
   "execution_count": 37,
   "id": "d5d72d90",
   "metadata": {},
   "outputs": [
    {
     "data": {
      "text/plain": [
       "Text(0.5, 0, 'Models')"
      ]
     },
     "execution_count": 37,
     "metadata": {},
     "output_type": "execute_result"
    },
    {
     "data": {
      "image/png": "[encoded data removed]",
      "text/plain": [
       "<Figure size 1440x1440 with 1 Axes>"
      ]
     },
     "metadata": {},
     "output_type": "display_data"
    }
   ],
   "source": [
    "#Making a dataframe for all the Random Forest Models\n",
    "rf_models=[\n",
    "          ['RF', rf_accuracy*100],\n",
    "          ['RF Oversampled', rf_over_accuracy*100],\n",
    "          ['RF Scaled', rf_scaled_accuracy*100],\n",
    "          ['RF Oversampled Scaled', rf_over_scaled_accuracy*100]\n",
    "\n",
    "]\n",
    "rf_models_df = pd.DataFrame(rf_models,columns=['Model','Accuracy'])\n",
    "\n",
    "#Making a barplot using all the random forest accuracies\n",
    "fig = plt.figure(figsize=(20,20))\n",
    "sns.set()\n",
    "sns.barplot(x='Model',y='Accuracy',data=rf_models_df)\n",
    "plt.title(\"Random Forest Models\", size=20)\n",
    "plt.xticks(size=15)\n",
    "plt.ylabel('Accuracy of Models',size=20)\n",
    "plt.xlabel('Models',size=20)\n"
   ]
  },
  {
   "cell_type": "markdown",
   "id": "95984aa2",
   "metadata": {},
   "source": [
    "### KNN"
   ]
  },
  {
   "cell_type": "code",
   "execution_count": 38,
   "id": "411d62a6",
   "metadata": {},
   "outputs": [
    {
     "name": "stdout",
     "output_type": "stream",
     "text": [
      "KNN model: \n",
      "\n",
      "Time taken to compute: 1.390\n",
      "The accuracy of the training set: 0.941\n",
      "The accuracy of the testing set: 0.924\n",
      "The cross validation score of the model: 0.927\n",
      "The classification report for this model:\n",
      "\n",
      "              precision    recall  f1-score   support\n",
      "\n",
      "           0       0.93      0.99      0.96       834\n",
      "           1       0.36      0.08      0.13        64\n",
      "\n",
      "    accuracy                           0.92       898\n",
      "   macro avg       0.65      0.53      0.54       898\n",
      "weighted avg       0.89      0.92      0.90       898\n",
      "\n",
      "Confusion matrix for the model: \n"
     ]
    },
    {
     "data": {
      "image/png": "[encoded data removed]",
      "text/plain": [
       "<Figure size 432x288 with 2 Axes>"
      ]
     },
     "metadata": {},
     "output_type": "display_data"
    }
   ],
   "source": [
    "#Making a variable 'start_time' to calculate how long it takes to process\n",
    "start_time=time.time()\n",
    "\n",
    "#Creating the instance of the KNN model and training it using the dataset with n_neighbors set to 2\n",
    "model=KNeighborsClassifier(n_neighbors=2)\n",
    "model.fit(X_train, y_train)\n",
    "knn_accuracy=model.score(X_test, y_test)\n",
    "training_score=model.score(X_train, y_train)\n",
    "y_test_pred=model.predict(X_test)\n",
    "cross_val= cross_val_score(model, X, y, cv=5, scoring='accuracy')\n",
    "\n",
    "\n",
    "#Creating 'df_labels' for the confusion matrix\n",
    "df_labels= ['0', '1']\n",
    "\n",
    "#Outputting the results from the model\n",
    "print(\"KNN model: \\n\")\n",
    "print(\"Time taken to compute: {:.3f}\".format(time.time()-start_time))\n",
    "print(\"The accuracy of the training set: {:.3f}\".format(training_score))\n",
    "print(\"The accuracy of the testing set: {:.3f}\".format(knn_accuracy))\n",
    "print(\"The cross validation score of the model: {:.3f}\".format(cross_val.mean()))\n",
    "print(\"The classification report for this model:\\n\")\n",
    "print(classification_report(y_test, y_test_pred, target_names=df_labels))\n",
    "print(\"Confusion matrix for the model: \")\n",
    "\n",
    "#Calling the confusionMat function to produce the confusion matrix for this model\n",
    "confusionMat(y_test, y_test_pred)"
   ]
  },
  {
   "cell_type": "markdown",
   "id": "7a1d4fbc",
   "metadata": {},
   "source": [
    "### KNN Oversampled"
   ]
  },
  {
   "cell_type": "code",
   "execution_count": 39,
   "id": "c08b8763",
   "metadata": {
    "scrolled": true
   },
   "outputs": [
    {
     "name": "stdout",
     "output_type": "stream",
     "text": [
      "KNN Oversampled model: \n",
      "\n",
      "Time taken to compute: 13.202\n",
      "The accuracy of the training set: 1.000\n",
      "The accuracy of the testing set: 0.963\n",
      "The cross validation score of the model: 0.969\n",
      "The classification report for this model:\n",
      "\n",
      "              precision    recall  f1-score   support\n",
      "\n",
      "           0       1.00      0.93      0.96       827\n",
      "           1       0.93      1.00      0.97       844\n",
      "\n",
      "    accuracy                           0.96      1671\n",
      "   macro avg       0.97      0.96      0.96      1671\n",
      "weighted avg       0.97      0.96      0.96      1671\n",
      "\n",
      "Confusion matrix for the model: \n"
     ]
    },
    {
     "data": {
      "image/png": "[encoded data removed]",
      "text/plain": [
       "<Figure size 432x288 with 2 Axes>"
      ]
     },
     "metadata": {},
     "output_type": "display_data"
    }
   ],
   "source": [
    "#Making a variable 'start_time' to calculate how long it takes to process\n",
    "start_time=time.time()\n",
    "\n",
    "#Creating the instance of the KNN model and training it using the oversampled dataset with n_neighbors set to 2\n",
    "model=KNeighborsClassifier(n_neighbors=2)\n",
    "model.fit(X_train_over, y_train_over)\n",
    "knn_over_accuracy=model.score(X_test_over, y_test_over)\n",
    "training_score=model.score(X_train_over, y_train_over)\n",
    "y_test_pred=model.predict(X_test_over)\n",
    "y_train_pred=model.predict(X_train_over)\n",
    "cross_val= cross_val_score(model, X_over, y_over, cv=5, scoring='accuracy')\n",
    "\n",
    "#Creating 'df_labels' for the confusion matrix\n",
    "df_labels= ['0', '1']\n",
    "\n",
    "#Outputting the results from the model\n",
    "print(\"KNN Oversampled model: \\n\")\n",
    "print(\"Time taken to compute: {:.3f}\".format(time.time()-start_time))\n",
    "print(\"The accuracy of the training set: {:.3f}\".format(training_score))\n",
    "print(\"The accuracy of the testing set: {:.3f}\".format(knn_over_accuracy))\n",
    "print(\"The cross validation score of the model: {:.3f}\".format(cross_val.mean()))\n",
    "print(\"The classification report for this model:\\n\")\n",
    "print(classification_report(y_test_over, y_test_pred, target_names=df_labels))\n",
    "print(\"Confusion matrix for the model: \")\n",
    "\n",
    "#Calling the confusionMat function to produce the confusion matrix for this model\n",
    "confusionMat(y_test_over, y_test_pred)"
   ]
  },
  {
   "cell_type": "markdown",
   "id": "490ce768",
   "metadata": {},
   "source": [
    "### KNN MinMax Scaler "
   ]
  },
  {
   "cell_type": "code",
   "execution_count": 40,
   "id": "7eddd82c",
   "metadata": {
    "scrolled": false
   },
   "outputs": [
    {
     "name": "stdout",
     "output_type": "stream",
     "text": [
      "KNN MinMax model: \n",
      "\n",
      "Time taken to compute: 2.116\n",
      "The accuracy of the training set: 0.948\n",
      "The accuracy of the testing set: 0.931\n",
      "The cross validation score of the model: 0.927\n",
      "The classification report for this model:\n",
      "\n",
      "              precision    recall  f1-score   support\n",
      "\n",
      "           0       0.93      1.00      0.96       834\n",
      "           1       0.62      0.08      0.14        64\n",
      "\n",
      "    accuracy                           0.93       898\n",
      "   macro avg       0.78      0.54      0.55       898\n",
      "weighted avg       0.91      0.93      0.91       898\n",
      "\n",
      "Confusion matrix for the model: \n"
     ]
    },
    {
     "data": {
      "image/png": "[encoded data removed]",
      "text/plain": [
       "<Figure size 432x288 with 2 Axes>"
      ]
     },
     "metadata": {},
     "output_type": "display_data"
    }
   ],
   "source": [
    "#Making a variable 'start_time' to calculate how long it takes to process\n",
    "start_time=time.time()\n",
    "\n",
    "#Creating the instance of the KNN model and training it using the feature scaled dataset with n_neighbors set to 2\n",
    "model=KNeighborsClassifier(n_neighbors=2)\n",
    "model.fit(X_train_scaled, y_train)\n",
    "knn_scaled_accuracy=model.score(X_test_scaled, y_test)\n",
    "training_score=model.score(X_train_scaled, y_train)\n",
    "y_test_pred=model.predict(X_test_scaled)\n",
    "cross_val= cross_val_score(model, X, y, cv=5, scoring='accuracy')\n",
    "\n",
    "#Creating 'df_labels' for the confusion matrix\n",
    "df_labels= ['0', '1']\n",
    "\n",
    "#Outputting the results from the model\n",
    "print(\"KNN MinMax model: \\n\")\n",
    "print(\"Time taken to compute: {:.3f}\".format(time.time()-start_time))\n",
    "print(\"The accuracy of the training set: {:.3f}\".format(training_score))\n",
    "print(\"The accuracy of the testing set: {:.3f}\".format(knn_scaled_accuracy))\n",
    "print(\"The cross validation score of the model: {:.3f}\".format(cross_val.mean()))\n",
    "print(\"The classification report for this model:\\n\")\n",
    "print(classification_report(y_test, y_test_pred, target_names=df_labels))\n",
    "print(\"Confusion matrix for the model: \")\n",
    "\n",
    "#Calling the confusionMat function to produce the confusion matrix for this model\n",
    "confusionMat(y_test, y_test_pred)"
   ]
  },
  {
   "cell_type": "markdown",
   "id": "3f37de7f",
   "metadata": {},
   "source": [
    "### KNN Oversampled MinMax Scaler "
   ]
  },
  {
   "cell_type": "code",
   "execution_count": 41,
   "id": "e0ae8fbb",
   "metadata": {},
   "outputs": [
    {
     "name": "stdout",
     "output_type": "stream",
     "text": [
      "KNNt Oversampled MinMax model: \n",
      "\n",
      "Time taken to compute: 5.652\n",
      "The accuracy of the training set: 1.000\n",
      "The accuracy of the testing set: 0.973\n",
      "The cross validation score of the model: 0.969\n",
      "The classification report for this model:\n",
      "\n",
      "              precision    recall  f1-score   support\n",
      "\n",
      "           0       1.00      0.95      0.97       827\n",
      "           1       0.95      1.00      0.97       844\n",
      "\n",
      "    accuracy                           0.97      1671\n",
      "   macro avg       0.97      0.97      0.97      1671\n",
      "weighted avg       0.97      0.97      0.97      1671\n",
      "\n",
      "Confusion matrix for the model: \n"
     ]
    },
    {
     "data": {
      "image/png": "[encoded data removed]",
      "text/plain": [
       "<Figure size 432x288 with 2 Axes>"
      ]
     },
     "metadata": {},
     "output_type": "display_data"
    }
   ],
   "source": [
    "#Making a variable 'start_time' to calculate how long it takes to process\n",
    "start_time=time.time()\n",
    "\n",
    "#Creating the instance of the KNN model and training it using the oversampled feature scaled dataset with n_neighbors set to 2\n",
    "model=KNeighborsClassifier(n_neighbors=2)\n",
    "model.fit(X_train_over_scaled, y_train_over)\n",
    "knn_over_scaled_accuracy=model.score(X_test_over_scaled, y_test_over)\n",
    "training_score=model.score(X_train_over_scaled, y_train_over)\n",
    "y_test_pred=model.predict(X_test_over_scaled)\n",
    "cross_val= cross_val_score(model, X_over, y_over, cv=5, scoring='accuracy')\n",
    "\n",
    "\n",
    "#Creating 'df_labels' for the confusion matrix\n",
    "df_labels= ['0', '1']\n",
    "\n",
    "#Outputting the results from the model\n",
    "print(\"KNNt Oversampled MinMax model: \\n\")\n",
    "print(\"Time taken to compute: {:.3f}\".format(time.time()-start_time))\n",
    "print(\"The accuracy of the training set: {:.3f}\".format(training_score))\n",
    "print(\"The accuracy of the testing set: {:.3f}\".format(knn_over_scaled_accuracy))\n",
    "print(\"The cross validation score of the model: {:.3f}\".format(cross_val.mean()))\n",
    "print(\"The classification report for this model:\\n\")\n",
    "print(classification_report(y_test_over, y_test_pred, target_names=df_labels))\n",
    "print(\"Confusion matrix for the model: \")\n",
    "\n",
    "#Calling the confusionMat function to produce the confusion matrix for this model\n",
    "confusionMat(y_test_over, y_test_pred)"
   ]
  },
  {
   "cell_type": "markdown",
   "id": "66a02365",
   "metadata": {},
   "source": [
    "### Visualizing KNN Models accuracy "
   ]
  },
  {
   "cell_type": "code",
   "execution_count": 42,
   "id": "c0a30e6f",
   "metadata": {},
   "outputs": [
    {
     "data": {
      "text/plain": [
       "Text(0.5, 0, 'Models')"
      ]
     },
     "execution_count": 42,
     "metadata": {},
     "output_type": "execute_result"
    },
    {
     "data": {
      "image/png": "[encoded data removed]",
      "text/plain": [
       "<Figure size 1440x1440 with 1 Axes>"
      ]
     },
     "metadata": {},
     "output_type": "display_data"
    }
   ],
   "source": [
    "#Making a dataframe using all the KNN models\n",
    "knn_models=[['KNN', knn_accuracy*100],\n",
    "              ['KNN Oversampled', knn_over_accuracy*100],\n",
    "              ['KNN Scaled', knn_scaled_accuracy*100],\n",
    "              ['KNN Oversampled Scaled', knn_over_scaled_accuracy*100]\n",
    "             ]\n",
    "knn_models_df = pd.DataFrame(knn_models,columns=['Model','Accuracy'])\n",
    "\n",
    "#Making a barplot using all the KNN accuracies\n",
    "fig = plt.figure(figsize=(20,20))\n",
    "sns.set()\n",
    "sns.barplot(x='Model',y='Accuracy',data=knn_models_df)\n",
    "plt.title(\"KNN Models\", size=20)\n",
    "plt.xticks(size=15)\n",
    "plt.ylabel('Accuracy of Models',size=20)\n",
    "plt.xlabel('Models',size=20)    "
   ]
  },
  {
   "cell_type": "markdown",
   "id": "90cb1f0f",
   "metadata": {},
   "source": [
    "# Hyperparameter Tuning"
   ]
  },
  {
   "cell_type": "markdown",
   "id": "7d4f3994",
   "metadata": {},
   "source": [
    "### Logistic Regression Grid Search"
   ]
  },
  {
   "cell_type": "code",
   "execution_count": 43,
   "id": "439b313b",
   "metadata": {},
   "outputs": [
    {
     "name": "stdout",
     "output_type": "stream",
     "text": [
      "{'solver': ['newton-cg', 'lbfgs', 'liblinear'], 'penalty': ['l2'], 'C': [100, 10, 1.0, 0.1, 0.01]}\n"
     ]
    }
   ],
   "source": [
    "#Setting up a dictionary 'param_grid' with all the parameters and their corresponding values that needs to be tested for best performance\n",
    "solvers_list = ['newton-cg', 'lbfgs', 'liblinear']\n",
    "c_values = [100, 10, 1.0, 0.1, 0.01]\n",
    "penalty = ['l2']\n",
    "param_grid=dict(solver=solvers_list,penalty=penalty,C=c_values)\n",
    "print(param_grid)"
   ]
  },
  {
   "cell_type": "code",
   "execution_count": 48,
   "id": "8bb594d2",
   "metadata": {
    "scrolled": true
   },
   "outputs": [
    {
     "name": "stdout",
     "output_type": "stream",
     "text": [
      "Time taken to compute: 29.174\n"
     ]
    },
    {
     "data": {
      "text/html": [
       "<div>\n",
       "<style scoped>\n",
       "    .dataframe tbody tr th:only-of-type {\n",
       "        vertical-align: middle;\n",
       "    }\n",
       "\n",
       "    .dataframe tbody tr th {\n",
       "        vertical-align: top;\n",
       "    }\n",
       "\n",
       "    .dataframe thead th {\n",
       "        text-align: right;\n",
       "    }\n",
       "</style>\n",
       "<table border=\"1\" class=\"dataframe\">\n",
       "  <thead>\n",
       "    <tr style=\"text-align: right;\">\n",
       "      <th></th>\n",
       "      <th>mean_test_score</th>\n",
       "      <th>params</th>\n",
       "    </tr>\n",
       "  </thead>\n",
       "  <tbody>\n",
       "    <tr>\n",
       "      <th>0</th>\n",
       "      <td>0.830103</td>\n",
       "      <td>{'C': 100, 'penalty': 'l2', 'solver': 'newton-...</td>\n",
       "    </tr>\n",
       "    <tr>\n",
       "      <th>1</th>\n",
       "      <td>0.825553</td>\n",
       "      <td>{'C': 100, 'penalty': 'l2', 'solver': 'lbfgs'}</td>\n",
       "    </tr>\n",
       "    <tr>\n",
       "      <th>2</th>\n",
       "      <td>0.828188</td>\n",
       "      <td>{'C': 100, 'penalty': 'l2', 'solver': 'libline...</td>\n",
       "    </tr>\n",
       "    <tr>\n",
       "      <th>3</th>\n",
       "      <td>0.830103</td>\n",
       "      <td>{'C': 10, 'penalty': 'l2', 'solver': 'newton-cg'}</td>\n",
       "    </tr>\n",
       "    <tr>\n",
       "      <th>4</th>\n",
       "      <td>0.824475</td>\n",
       "      <td>{'C': 10, 'penalty': 'l2', 'solver': 'lbfgs'}</td>\n",
       "    </tr>\n",
       "    <tr>\n",
       "      <th>5</th>\n",
       "      <td>0.827469</td>\n",
       "      <td>{'C': 10, 'penalty': 'l2', 'solver': 'liblinear'}</td>\n",
       "    </tr>\n",
       "    <tr>\n",
       "      <th>6</th>\n",
       "      <td>0.830582</td>\n",
       "      <td>{'C': 1.0, 'penalty': 'l2', 'solver': 'newton-...</td>\n",
       "    </tr>\n",
       "    <tr>\n",
       "      <th>7</th>\n",
       "      <td>0.825194</td>\n",
       "      <td>{'C': 1.0, 'penalty': 'l2', 'solver': 'lbfgs'}</td>\n",
       "    </tr>\n",
       "    <tr>\n",
       "      <th>8</th>\n",
       "      <td>0.824835</td>\n",
       "      <td>{'C': 1.0, 'penalty': 'l2', 'solver': 'libline...</td>\n",
       "    </tr>\n",
       "    <tr>\n",
       "      <th>9</th>\n",
       "      <td>0.830103</td>\n",
       "      <td>{'C': 0.1, 'penalty': 'l2', 'solver': 'newton-...</td>\n",
       "    </tr>\n",
       "    <tr>\n",
       "      <th>10</th>\n",
       "      <td>0.825074</td>\n",
       "      <td>{'C': 0.1, 'penalty': 'l2', 'solver': 'lbfgs'}</td>\n",
       "    </tr>\n",
       "    <tr>\n",
       "      <th>11</th>\n",
       "      <td>0.823638</td>\n",
       "      <td>{'C': 0.1, 'penalty': 'l2', 'solver': 'libline...</td>\n",
       "    </tr>\n",
       "    <tr>\n",
       "      <th>12</th>\n",
       "      <td>0.824595</td>\n",
       "      <td>{'C': 0.01, 'penalty': 'l2', 'solver': 'newton...</td>\n",
       "    </tr>\n",
       "    <tr>\n",
       "      <th>13</th>\n",
       "      <td>0.821962</td>\n",
       "      <td>{'C': 0.01, 'penalty': 'l2', 'solver': 'lbfgs'}</td>\n",
       "    </tr>\n",
       "    <tr>\n",
       "      <th>14</th>\n",
       "      <td>0.822082</td>\n",
       "      <td>{'C': 0.01, 'penalty': 'l2', 'solver': 'liblin...</td>\n",
       "    </tr>\n",
       "  </tbody>\n",
       "</table>\n",
       "</div>"
      ],
      "text/plain": [
       "    mean_test_score                                             params\n",
       "0          0.830103  {'C': 100, 'penalty': 'l2', 'solver': 'newton-...\n",
       "1          0.825553     {'C': 100, 'penalty': 'l2', 'solver': 'lbfgs'}\n",
       "2          0.828188  {'C': 100, 'penalty': 'l2', 'solver': 'libline...\n",
       "3          0.830103  {'C': 10, 'penalty': 'l2', 'solver': 'newton-cg'}\n",
       "4          0.824475      {'C': 10, 'penalty': 'l2', 'solver': 'lbfgs'}\n",
       "5          0.827469  {'C': 10, 'penalty': 'l2', 'solver': 'liblinear'}\n",
       "6          0.830582  {'C': 1.0, 'penalty': 'l2', 'solver': 'newton-...\n",
       "7          0.825194     {'C': 1.0, 'penalty': 'l2', 'solver': 'lbfgs'}\n",
       "8          0.824835  {'C': 1.0, 'penalty': 'l2', 'solver': 'libline...\n",
       "9          0.830103  {'C': 0.1, 'penalty': 'l2', 'solver': 'newton-...\n",
       "10         0.825074     {'C': 0.1, 'penalty': 'l2', 'solver': 'lbfgs'}\n",
       "11         0.823638  {'C': 0.1, 'penalty': 'l2', 'solver': 'libline...\n",
       "12         0.824595  {'C': 0.01, 'penalty': 'l2', 'solver': 'newton...\n",
       "13         0.821962    {'C': 0.01, 'penalty': 'l2', 'solver': 'lbfgs'}\n",
       "14         0.822082  {'C': 0.01, 'penalty': 'l2', 'solver': 'liblin..."
      ]
     },
     "execution_count": 48,
     "metadata": {},
     "output_type": "execute_result"
    }
   ],
   "source": [
    "#Create an instance of the GridSearch class and passing in the Logistic Regression model and the parameter dictionary defined above with a 5 fold validation\n",
    "#And outputting a dataframe with all the combinations of parameters used\n",
    "start_time=time.time()\n",
    "grid = GridSearchCV(LogisticRegression(max_iter=10000), param_grid, cv=5, scoring='accuracy', return_train_score=False, n_jobs=-1)\n",
    "grid.fit(X,y)\n",
    "print(\"Time taken to compute: {:.3f}\".format(time.time()-start_time))\n",
    "pd.DataFrame(grid.cv_results_)[[\"mean_test_score\", \"params\"]]"
   ]
  },
  {
   "cell_type": "code",
   "execution_count": 49,
   "id": "bcbdda94",
   "metadata": {},
   "outputs": [
    {
     "name": "stdout",
     "output_type": "stream",
     "text": [
      "Best models accuracy is:0.831 \n",
      "Used values:  {'C': 1.0, 'penalty': 'l2', 'solver': 'newton-cg'}\n"
     ]
    }
   ],
   "source": [
    "#Outputting the accuracy achived using the best parameters.\n",
    "logistic_grid_bm=grid.best_score_\n",
    "logistic_grid_bp=grid.best_params_\n",
    "print(\"Best models accuracy is:{:.3f} \".format(logistic_grid_bm))\n",
    "print(\"Used values: \", logistic_grid_bp)"
   ]
  },
  {
   "cell_type": "markdown",
   "id": "7d2f7cf0",
   "metadata": {},
   "source": [
    "### Logistic Regression Randomized Search"
   ]
  },
  {
   "cell_type": "code",
   "execution_count": 46,
   "id": "36e622b3",
   "metadata": {},
   "outputs": [
    {
     "name": "stdout",
     "output_type": "stream",
     "text": [
      "Time taken to compute: 21.670\n"
     ]
    },
    {
     "data": {
      "text/html": [
       "<div>\n",
       "<style scoped>\n",
       "    .dataframe tbody tr th:only-of-type {\n",
       "        vertical-align: middle;\n",
       "    }\n",
       "\n",
       "    .dataframe tbody tr th {\n",
       "        vertical-align: top;\n",
       "    }\n",
       "\n",
       "    .dataframe thead th {\n",
       "        text-align: right;\n",
       "    }\n",
       "</style>\n",
       "<table border=\"1\" class=\"dataframe\">\n",
       "  <thead>\n",
       "    <tr style=\"text-align: right;\">\n",
       "      <th></th>\n",
       "      <th>mean_test_score</th>\n",
       "      <th>params</th>\n",
       "    </tr>\n",
       "  </thead>\n",
       "  <tbody>\n",
       "    <tr>\n",
       "      <th>0</th>\n",
       "      <td>0.928667</td>\n",
       "      <td>{'solver': 'newton-cg', 'penalty': 'l2', 'C': ...</td>\n",
       "    </tr>\n",
       "    <tr>\n",
       "      <th>1</th>\n",
       "      <td>0.929113</td>\n",
       "      <td>{'solver': 'lbfgs', 'penalty': 'l2', 'C': 100}</td>\n",
       "    </tr>\n",
       "    <tr>\n",
       "      <th>2</th>\n",
       "      <td>0.929336</td>\n",
       "      <td>{'solver': 'liblinear', 'penalty': 'l2', 'C': ...</td>\n",
       "    </tr>\n",
       "    <tr>\n",
       "      <th>3</th>\n",
       "      <td>0.929112</td>\n",
       "      <td>{'solver': 'newton-cg', 'penalty': 'l2', 'C': 10}</td>\n",
       "    </tr>\n",
       "    <tr>\n",
       "      <th>4</th>\n",
       "      <td>0.928667</td>\n",
       "      <td>{'solver': 'lbfgs', 'penalty': 'l2', 'C': 10}</td>\n",
       "    </tr>\n",
       "    <tr>\n",
       "      <th>5</th>\n",
       "      <td>0.929113</td>\n",
       "      <td>{'solver': 'liblinear', 'penalty': 'l2', 'C': 10}</td>\n",
       "    </tr>\n",
       "    <tr>\n",
       "      <th>6</th>\n",
       "      <td>0.929112</td>\n",
       "      <td>{'solver': 'newton-cg', 'penalty': 'l2', 'C': ...</td>\n",
       "    </tr>\n",
       "    <tr>\n",
       "      <th>7</th>\n",
       "      <td>0.929335</td>\n",
       "      <td>{'solver': 'lbfgs', 'penalty': 'l2', 'C': 1.0}</td>\n",
       "    </tr>\n",
       "    <tr>\n",
       "      <th>8</th>\n",
       "      <td>0.929781</td>\n",
       "      <td>{'solver': 'liblinear', 'penalty': 'l2', 'C': ...</td>\n",
       "    </tr>\n",
       "    <tr>\n",
       "      <th>9</th>\n",
       "      <td>0.930450</td>\n",
       "      <td>{'solver': 'newton-cg', 'penalty': 'l2', 'C': ...</td>\n",
       "    </tr>\n",
       "    <tr>\n",
       "      <th>10</th>\n",
       "      <td>0.930005</td>\n",
       "      <td>{'solver': 'lbfgs', 'penalty': 'l2', 'C': 0.1}</td>\n",
       "    </tr>\n",
       "    <tr>\n",
       "      <th>11</th>\n",
       "      <td>0.930228</td>\n",
       "      <td>{'solver': 'liblinear', 'penalty': 'l2', 'C': ...</td>\n",
       "    </tr>\n",
       "    <tr>\n",
       "      <th>12</th>\n",
       "      <td>0.931342</td>\n",
       "      <td>{'solver': 'newton-cg', 'penalty': 'l2', 'C': ...</td>\n",
       "    </tr>\n",
       "    <tr>\n",
       "      <th>13</th>\n",
       "      <td>0.930673</td>\n",
       "      <td>{'solver': 'lbfgs', 'penalty': 'l2', 'C': 0.01}</td>\n",
       "    </tr>\n",
       "    <tr>\n",
       "      <th>14</th>\n",
       "      <td>0.931119</td>\n",
       "      <td>{'solver': 'liblinear', 'penalty': 'l2', 'C': ...</td>\n",
       "    </tr>\n",
       "  </tbody>\n",
       "</table>\n",
       "</div>"
      ],
      "text/plain": [
       "    mean_test_score                                             params\n",
       "0          0.928667  {'solver': 'newton-cg', 'penalty': 'l2', 'C': ...\n",
       "1          0.929113     {'solver': 'lbfgs', 'penalty': 'l2', 'C': 100}\n",
       "2          0.929336  {'solver': 'liblinear', 'penalty': 'l2', 'C': ...\n",
       "3          0.929112  {'solver': 'newton-cg', 'penalty': 'l2', 'C': 10}\n",
       "4          0.928667      {'solver': 'lbfgs', 'penalty': 'l2', 'C': 10}\n",
       "5          0.929113  {'solver': 'liblinear', 'penalty': 'l2', 'C': 10}\n",
       "6          0.929112  {'solver': 'newton-cg', 'penalty': 'l2', 'C': ...\n",
       "7          0.929335     {'solver': 'lbfgs', 'penalty': 'l2', 'C': 1.0}\n",
       "8          0.929781  {'solver': 'liblinear', 'penalty': 'l2', 'C': ...\n",
       "9          0.930450  {'solver': 'newton-cg', 'penalty': 'l2', 'C': ...\n",
       "10         0.930005     {'solver': 'lbfgs', 'penalty': 'l2', 'C': 0.1}\n",
       "11         0.930228  {'solver': 'liblinear', 'penalty': 'l2', 'C': ...\n",
       "12         0.931342  {'solver': 'newton-cg', 'penalty': 'l2', 'C': ...\n",
       "13         0.930673    {'solver': 'lbfgs', 'penalty': 'l2', 'C': 0.01}\n",
       "14         0.931119  {'solver': 'liblinear', 'penalty': 'l2', 'C': ..."
      ]
     },
     "execution_count": 46,
     "metadata": {},
     "output_type": "execute_result"
    }
   ],
   "source": [
    "#Create an instance of the RandomSearch class and passing in the Logistic Regression model and the parameter dictionary defined above with a 5 fold validation and n_iter set to 15\n",
    "#And outputting the all the combinations used of parameters used\n",
    "start_time=time.time()\n",
    "rand = RandomizedSearchCV(LogisticRegression(max_iter=10000), param_grid, cv=5, scoring='accuracy', return_train_score=False, n_iter=15, n_jobs=-1)\n",
    "rand.fit(X,y)\n",
    "print(\"Time taken to compute: {:.3f}\".format(time.time()-start_time))\n",
    "pd.DataFrame(rand.cv_results_)[[\"mean_test_score\", \"params\"]]"
   ]
  },
  {
   "cell_type": "code",
   "execution_count": 47,
   "id": "90b49d63",
   "metadata": {},
   "outputs": [
    {
     "name": "stdout",
     "output_type": "stream",
     "text": [
      "Best models accuracy is:0.931 \n",
      "Used values:  {'solver': 'newton-cg', 'penalty': 'l2', 'C': 0.01}\n"
     ]
    }
   ],
   "source": [
    "#Outputting the accuracy achived using the best parameters.\n",
    "logistic_random_bm=rand.best_score_\n",
    "logistic_random_bp= rand.best_params_\n",
    "print(\"Best models accuracy is:{:.3f} \".format(logistic_random_bm))\n",
    "print(\"Used values: \", logistic_random_bp)"
   ]
  },
  {
   "cell_type": "markdown",
   "id": "99623d7b",
   "metadata": {},
   "source": [
    "### Random Forest Grid Search"
   ]
  },
  {
   "cell_type": "code",
   "execution_count": 48,
   "id": "a20566f2",
   "metadata": {},
   "outputs": [
    {
     "name": "stdout",
     "output_type": "stream",
     "text": [
      "{'criterion': ['gini', 'entropy'], 'max_features': ['auto', 'sqrt', 'log2'], 'max_depth': [2, 4, 6, 8]}\n"
     ]
    }
   ],
   "source": [
    "#Setting up a dictionary 'param_grid' with all the parameters and their corresponding values that needs to be tested for best performance\n",
    "criterion_list=[\"gini\", \"entropy\"]\n",
    "max_features_list=[\"auto\", \"sqrt\", \"log2\"]\n",
    "max_depth_list=[2,4,6,8]\n",
    "param_grid=dict(criterion=criterion_list, max_features=max_features_list, max_depth=max_depth_list)\n",
    "print(param_grid)"
   ]
  },
  {
   "cell_type": "code",
   "execution_count": 49,
   "id": "a9c116e1",
   "metadata": {},
   "outputs": [
    {
     "name": "stdout",
     "output_type": "stream",
     "text": [
      "Time taken to compute: 23.341\n"
     ]
    },
    {
     "data": {
      "text/html": [
       "<div>\n",
       "<style scoped>\n",
       "    .dataframe tbody tr th:only-of-type {\n",
       "        vertical-align: middle;\n",
       "    }\n",
       "\n",
       "    .dataframe tbody tr th {\n",
       "        vertical-align: top;\n",
       "    }\n",
       "\n",
       "    .dataframe thead th {\n",
       "        text-align: right;\n",
       "    }\n",
       "</style>\n",
       "<table border=\"1\" class=\"dataframe\">\n",
       "  <thead>\n",
       "    <tr style=\"text-align: right;\">\n",
       "      <th></th>\n",
       "      <th>mean_test_score</th>\n",
       "      <th>params</th>\n",
       "    </tr>\n",
       "  </thead>\n",
       "  <tbody>\n",
       "    <tr>\n",
       "      <th>0</th>\n",
       "      <td>0.930896</td>\n",
       "      <td>{'criterion': 'gini', 'max_depth': 2, 'max_fea...</td>\n",
       "    </tr>\n",
       "    <tr>\n",
       "      <th>1</th>\n",
       "      <td>0.930896</td>\n",
       "      <td>{'criterion': 'gini', 'max_depth': 2, 'max_fea...</td>\n",
       "    </tr>\n",
       "    <tr>\n",
       "      <th>2</th>\n",
       "      <td>0.930896</td>\n",
       "      <td>{'criterion': 'gini', 'max_depth': 2, 'max_fea...</td>\n",
       "    </tr>\n",
       "    <tr>\n",
       "      <th>3</th>\n",
       "      <td>0.930896</td>\n",
       "      <td>{'criterion': 'gini', 'max_depth': 4, 'max_fea...</td>\n",
       "    </tr>\n",
       "    <tr>\n",
       "      <th>4</th>\n",
       "      <td>0.930896</td>\n",
       "      <td>{'criterion': 'gini', 'max_depth': 4, 'max_fea...</td>\n",
       "    </tr>\n",
       "    <tr>\n",
       "      <th>5</th>\n",
       "      <td>0.930896</td>\n",
       "      <td>{'criterion': 'gini', 'max_depth': 4, 'max_fea...</td>\n",
       "    </tr>\n",
       "    <tr>\n",
       "      <th>6</th>\n",
       "      <td>0.930896</td>\n",
       "      <td>{'criterion': 'gini', 'max_depth': 6, 'max_fea...</td>\n",
       "    </tr>\n",
       "    <tr>\n",
       "      <th>7</th>\n",
       "      <td>0.930673</td>\n",
       "      <td>{'criterion': 'gini', 'max_depth': 6, 'max_fea...</td>\n",
       "    </tr>\n",
       "    <tr>\n",
       "      <th>8</th>\n",
       "      <td>0.930673</td>\n",
       "      <td>{'criterion': 'gini', 'max_depth': 6, 'max_fea...</td>\n",
       "    </tr>\n",
       "    <tr>\n",
       "      <th>9</th>\n",
       "      <td>0.930004</td>\n",
       "      <td>{'criterion': 'gini', 'max_depth': 8, 'max_fea...</td>\n",
       "    </tr>\n",
       "    <tr>\n",
       "      <th>10</th>\n",
       "      <td>0.930227</td>\n",
       "      <td>{'criterion': 'gini', 'max_depth': 8, 'max_fea...</td>\n",
       "    </tr>\n",
       "    <tr>\n",
       "      <th>11</th>\n",
       "      <td>0.930004</td>\n",
       "      <td>{'criterion': 'gini', 'max_depth': 8, 'max_fea...</td>\n",
       "    </tr>\n",
       "    <tr>\n",
       "      <th>12</th>\n",
       "      <td>0.930896</td>\n",
       "      <td>{'criterion': 'entropy', 'max_depth': 2, 'max_...</td>\n",
       "    </tr>\n",
       "    <tr>\n",
       "      <th>13</th>\n",
       "      <td>0.930896</td>\n",
       "      <td>{'criterion': 'entropy', 'max_depth': 2, 'max_...</td>\n",
       "    </tr>\n",
       "    <tr>\n",
       "      <th>14</th>\n",
       "      <td>0.930896</td>\n",
       "      <td>{'criterion': 'entropy', 'max_depth': 2, 'max_...</td>\n",
       "    </tr>\n",
       "    <tr>\n",
       "      <th>15</th>\n",
       "      <td>0.930896</td>\n",
       "      <td>{'criterion': 'entropy', 'max_depth': 4, 'max_...</td>\n",
       "    </tr>\n",
       "    <tr>\n",
       "      <th>16</th>\n",
       "      <td>0.930896</td>\n",
       "      <td>{'criterion': 'entropy', 'max_depth': 4, 'max_...</td>\n",
       "    </tr>\n",
       "    <tr>\n",
       "      <th>17</th>\n",
       "      <td>0.930896</td>\n",
       "      <td>{'criterion': 'entropy', 'max_depth': 4, 'max_...</td>\n",
       "    </tr>\n",
       "    <tr>\n",
       "      <th>18</th>\n",
       "      <td>0.930896</td>\n",
       "      <td>{'criterion': 'entropy', 'max_depth': 6, 'max_...</td>\n",
       "    </tr>\n",
       "    <tr>\n",
       "      <th>19</th>\n",
       "      <td>0.930673</td>\n",
       "      <td>{'criterion': 'entropy', 'max_depth': 6, 'max_...</td>\n",
       "    </tr>\n",
       "    <tr>\n",
       "      <th>20</th>\n",
       "      <td>0.930896</td>\n",
       "      <td>{'criterion': 'entropy', 'max_depth': 6, 'max_...</td>\n",
       "    </tr>\n",
       "    <tr>\n",
       "      <th>21</th>\n",
       "      <td>0.930896</td>\n",
       "      <td>{'criterion': 'entropy', 'max_depth': 8, 'max_...</td>\n",
       "    </tr>\n",
       "    <tr>\n",
       "      <th>22</th>\n",
       "      <td>0.930896</td>\n",
       "      <td>{'criterion': 'entropy', 'max_depth': 8, 'max_...</td>\n",
       "    </tr>\n",
       "    <tr>\n",
       "      <th>23</th>\n",
       "      <td>0.930673</td>\n",
       "      <td>{'criterion': 'entropy', 'max_depth': 8, 'max_...</td>\n",
       "    </tr>\n",
       "  </tbody>\n",
       "</table>\n",
       "</div>"
      ],
      "text/plain": [
       "    mean_test_score                                             params\n",
       "0          0.930896  {'criterion': 'gini', 'max_depth': 2, 'max_fea...\n",
       "1          0.930896  {'criterion': 'gini', 'max_depth': 2, 'max_fea...\n",
       "2          0.930896  {'criterion': 'gini', 'max_depth': 2, 'max_fea...\n",
       "3          0.930896  {'criterion': 'gini', 'max_depth': 4, 'max_fea...\n",
       "4          0.930896  {'criterion': 'gini', 'max_depth': 4, 'max_fea...\n",
       "5          0.930896  {'criterion': 'gini', 'max_depth': 4, 'max_fea...\n",
       "6          0.930896  {'criterion': 'gini', 'max_depth': 6, 'max_fea...\n",
       "7          0.930673  {'criterion': 'gini', 'max_depth': 6, 'max_fea...\n",
       "8          0.930673  {'criterion': 'gini', 'max_depth': 6, 'max_fea...\n",
       "9          0.930004  {'criterion': 'gini', 'max_depth': 8, 'max_fea...\n",
       "10         0.930227  {'criterion': 'gini', 'max_depth': 8, 'max_fea...\n",
       "11         0.930004  {'criterion': 'gini', 'max_depth': 8, 'max_fea...\n",
       "12         0.930896  {'criterion': 'entropy', 'max_depth': 2, 'max_...\n",
       "13         0.930896  {'criterion': 'entropy', 'max_depth': 2, 'max_...\n",
       "14         0.930896  {'criterion': 'entropy', 'max_depth': 2, 'max_...\n",
       "15         0.930896  {'criterion': 'entropy', 'max_depth': 4, 'max_...\n",
       "16         0.930896  {'criterion': 'entropy', 'max_depth': 4, 'max_...\n",
       "17         0.930896  {'criterion': 'entropy', 'max_depth': 4, 'max_...\n",
       "18         0.930896  {'criterion': 'entropy', 'max_depth': 6, 'max_...\n",
       "19         0.930673  {'criterion': 'entropy', 'max_depth': 6, 'max_...\n",
       "20         0.930896  {'criterion': 'entropy', 'max_depth': 6, 'max_...\n",
       "21         0.930896  {'criterion': 'entropy', 'max_depth': 8, 'max_...\n",
       "22         0.930896  {'criterion': 'entropy', 'max_depth': 8, 'max_...\n",
       "23         0.930673  {'criterion': 'entropy', 'max_depth': 8, 'max_..."
      ]
     },
     "execution_count": 49,
     "metadata": {},
     "output_type": "execute_result"
    }
   ],
   "source": [
    "#Create an instance of the GridSearch class and passing in the Random Forest model and the parameter dictionary defined above with a 5 fold validation\n",
    "#And outputting the all the combinations used of parameters used\n",
    "start_time=time.time()\n",
    "grid = GridSearchCV(RandomForestClassifier(), param_grid, cv=5, scoring='accuracy', return_train_score=False, n_jobs=-1)\n",
    "grid.fit(X,y)\n",
    "print(\"Time taken to compute: {:.3f}\".format(time.time()-start_time))\n",
    "pd.DataFrame(grid.cv_results_)[[\"mean_test_score\", \"params\"]]"
   ]
  },
  {
   "cell_type": "code",
   "execution_count": 50,
   "id": "da8f376f",
   "metadata": {},
   "outputs": [
    {
     "name": "stdout",
     "output_type": "stream",
     "text": [
      "Best models accuracy is:0.931 \n",
      "Used values:  {'criterion': 'gini', 'max_depth': 2, 'max_features': 'auto'}\n"
     ]
    }
   ],
   "source": [
    "#Outputting the accuracy achived using the best parameters.\n",
    "rf_grid_bm=grid.best_score_\n",
    "rf_grid_bp=grid.best_params_\n",
    "print(\"Best models accuracy is:{:.3f} \".format(rf_grid_bm))\n",
    "print(\"Used values: \", rf_grid_bp)"
   ]
  },
  {
   "cell_type": "markdown",
   "id": "e97d8ac9",
   "metadata": {},
   "source": [
    "### Random Forest Randomized Search"
   ]
  },
  {
   "cell_type": "code",
   "execution_count": 51,
   "id": "26e7f6f9",
   "metadata": {
    "scrolled": true
   },
   "outputs": [
    {
     "name": "stdout",
     "output_type": "stream",
     "text": [
      "Time taken to compute: 19.889\n"
     ]
    },
    {
     "data": {
      "text/html": [
       "<div>\n",
       "<style scoped>\n",
       "    .dataframe tbody tr th:only-of-type {\n",
       "        vertical-align: middle;\n",
       "    }\n",
       "\n",
       "    .dataframe tbody tr th {\n",
       "        vertical-align: top;\n",
       "    }\n",
       "\n",
       "    .dataframe thead th {\n",
       "        text-align: right;\n",
       "    }\n",
       "</style>\n",
       "<table border=\"1\" class=\"dataframe\">\n",
       "  <thead>\n",
       "    <tr style=\"text-align: right;\">\n",
       "      <th></th>\n",
       "      <th>mean_test_score</th>\n",
       "      <th>params</th>\n",
       "    </tr>\n",
       "  </thead>\n",
       "  <tbody>\n",
       "    <tr>\n",
       "      <th>0</th>\n",
       "      <td>0.930896</td>\n",
       "      <td>{'max_features': 'auto', 'max_depth': 2, 'crit...</td>\n",
       "    </tr>\n",
       "    <tr>\n",
       "      <th>1</th>\n",
       "      <td>0.930673</td>\n",
       "      <td>{'max_features': 'log2', 'max_depth': 6, 'crit...</td>\n",
       "    </tr>\n",
       "    <tr>\n",
       "      <th>2</th>\n",
       "      <td>0.930896</td>\n",
       "      <td>{'max_features': 'auto', 'max_depth': 6, 'crit...</td>\n",
       "    </tr>\n",
       "    <tr>\n",
       "      <th>3</th>\n",
       "      <td>0.930896</td>\n",
       "      <td>{'max_features': 'auto', 'max_depth': 2, 'crit...</td>\n",
       "    </tr>\n",
       "    <tr>\n",
       "      <th>4</th>\n",
       "      <td>0.930896</td>\n",
       "      <td>{'max_features': 'log2', 'max_depth': 4, 'crit...</td>\n",
       "    </tr>\n",
       "    <tr>\n",
       "      <th>5</th>\n",
       "      <td>0.930450</td>\n",
       "      <td>{'max_features': 'log2', 'max_depth': 6, 'crit...</td>\n",
       "    </tr>\n",
       "    <tr>\n",
       "      <th>6</th>\n",
       "      <td>0.930896</td>\n",
       "      <td>{'max_features': 'auto', 'max_depth': 4, 'crit...</td>\n",
       "    </tr>\n",
       "    <tr>\n",
       "      <th>7</th>\n",
       "      <td>0.930896</td>\n",
       "      <td>{'max_features': 'sqrt', 'max_depth': 2, 'crit...</td>\n",
       "    </tr>\n",
       "    <tr>\n",
       "      <th>8</th>\n",
       "      <td>0.930673</td>\n",
       "      <td>{'max_features': 'log2', 'max_depth': 8, 'crit...</td>\n",
       "    </tr>\n",
       "    <tr>\n",
       "      <th>9</th>\n",
       "      <td>0.930896</td>\n",
       "      <td>{'max_features': 'log2', 'max_depth': 2, 'crit...</td>\n",
       "    </tr>\n",
       "    <tr>\n",
       "      <th>10</th>\n",
       "      <td>0.930450</td>\n",
       "      <td>{'max_features': 'log2', 'max_depth': 8, 'crit...</td>\n",
       "    </tr>\n",
       "    <tr>\n",
       "      <th>11</th>\n",
       "      <td>0.930896</td>\n",
       "      <td>{'max_features': 'sqrt', 'max_depth': 6, 'crit...</td>\n",
       "    </tr>\n",
       "    <tr>\n",
       "      <th>12</th>\n",
       "      <td>0.930896</td>\n",
       "      <td>{'max_features': 'auto', 'max_depth': 4, 'crit...</td>\n",
       "    </tr>\n",
       "    <tr>\n",
       "      <th>13</th>\n",
       "      <td>0.930896</td>\n",
       "      <td>{'max_features': 'sqrt', 'max_depth': 4, 'crit...</td>\n",
       "    </tr>\n",
       "    <tr>\n",
       "      <th>14</th>\n",
       "      <td>0.930896</td>\n",
       "      <td>{'max_features': 'sqrt', 'max_depth': 2, 'crit...</td>\n",
       "    </tr>\n",
       "  </tbody>\n",
       "</table>\n",
       "</div>"
      ],
      "text/plain": [
       "    mean_test_score                                             params\n",
       "0          0.930896  {'max_features': 'auto', 'max_depth': 2, 'crit...\n",
       "1          0.930673  {'max_features': 'log2', 'max_depth': 6, 'crit...\n",
       "2          0.930896  {'max_features': 'auto', 'max_depth': 6, 'crit...\n",
       "3          0.930896  {'max_features': 'auto', 'max_depth': 2, 'crit...\n",
       "4          0.930896  {'max_features': 'log2', 'max_depth': 4, 'crit...\n",
       "5          0.930450  {'max_features': 'log2', 'max_depth': 6, 'crit...\n",
       "6          0.930896  {'max_features': 'auto', 'max_depth': 4, 'crit...\n",
       "7          0.930896  {'max_features': 'sqrt', 'max_depth': 2, 'crit...\n",
       "8          0.930673  {'max_features': 'log2', 'max_depth': 8, 'crit...\n",
       "9          0.930896  {'max_features': 'log2', 'max_depth': 2, 'crit...\n",
       "10         0.930450  {'max_features': 'log2', 'max_depth': 8, 'crit...\n",
       "11         0.930896  {'max_features': 'sqrt', 'max_depth': 6, 'crit...\n",
       "12         0.930896  {'max_features': 'auto', 'max_depth': 4, 'crit...\n",
       "13         0.930896  {'max_features': 'sqrt', 'max_depth': 4, 'crit...\n",
       "14         0.930896  {'max_features': 'sqrt', 'max_depth': 2, 'crit..."
      ]
     },
     "execution_count": 51,
     "metadata": {},
     "output_type": "execute_result"
    }
   ],
   "source": [
    "#Create an instance of the RandomizedSearch class and passing in the Random Forest model and the parameter dictionary defined above with a 5 fold validation\n",
    "#And outputting the all the combinations used of parameters used\n",
    "start_time=time.time()\n",
    "rand = RandomizedSearchCV(RandomForestClassifier(), param_grid, cv=5, scoring='accuracy', return_train_score=False, n_iter=15,n_jobs=-1)\n",
    "rand.fit(X,y)\n",
    "print(\"Time taken to compute: {:.3f}\".format(time.time()-start_time))\n",
    "pd.DataFrame(rand.cv_results_)[[\"mean_test_score\", \"params\"]]"
   ]
  },
  {
   "cell_type": "code",
   "execution_count": 52,
   "id": "ee012708",
   "metadata": {},
   "outputs": [
    {
     "name": "stdout",
     "output_type": "stream",
     "text": [
      "Best models accuracy is:0.931 \n",
      "Used values:  {'max_features': 'auto', 'max_depth': 2, 'criterion': 'gini'}\n"
     ]
    }
   ],
   "source": [
    "#Outputting the accuracy achived using the best parameters.\n",
    "rf_random_bm=rand.best_score_\n",
    "rf_random_bp=rand.best_params_\n",
    "print(\"Best models accuracy is:{:.3f} \".format(rf_random_bm))\n",
    "print(\"Used values: \", rf_random_bp)"
   ]
  },
  {
   "cell_type": "markdown",
   "id": "fa631e7e",
   "metadata": {},
   "source": [
    "### KNN Grid Search"
   ]
  },
  {
   "cell_type": "code",
   "execution_count": 53,
   "id": "9538218c",
   "metadata": {},
   "outputs": [
    {
     "name": "stdout",
     "output_type": "stream",
     "text": [
      "{'n_neighbors': [1, 2, 3, 4, 5, 6, 7, 8, 9, 10], 'weights': ['uniform', 'distance'], 'algorithm': ['auto', 'ball_tree', 'kd_tree', 'brute']}\n"
     ]
    }
   ],
   "source": [
    "#Setting up a dicitonary 'param_grid' with all the parameters and their corresponding values that needs to be tested for best performance\n",
    "neighbors_list=list(range(1,11)) \n",
    "weights_list=['uniform', 'distance']\n",
    "algorithm_list=['auto','ball_tree','kd_tree','brute']\n",
    "param_grid=dict(n_neighbors=neighbors_list, weights=weights_list, algorithm=algorithm_list)\n",
    "print(param_grid)"
   ]
  },
  {
   "cell_type": "code",
   "execution_count": 54,
   "id": "854e540a",
   "metadata": {},
   "outputs": [
    {
     "name": "stdout",
     "output_type": "stream",
     "text": [
      "Time taken to compute: 32.364\n"
     ]
    },
    {
     "data": {
      "text/html": [
       "<div>\n",
       "<style scoped>\n",
       "    .dataframe tbody tr th:only-of-type {\n",
       "        vertical-align: middle;\n",
       "    }\n",
       "\n",
       "    .dataframe tbody tr th {\n",
       "        vertical-align: top;\n",
       "    }\n",
       "\n",
       "    .dataframe thead th {\n",
       "        text-align: right;\n",
       "    }\n",
       "</style>\n",
       "<table border=\"1\" class=\"dataframe\">\n",
       "  <thead>\n",
       "    <tr style=\"text-align: right;\">\n",
       "      <th></th>\n",
       "      <th>mean_test_score</th>\n",
       "      <th>params</th>\n",
       "    </tr>\n",
       "  </thead>\n",
       "  <tbody>\n",
       "    <tr>\n",
       "      <th>0</th>\n",
       "      <td>0.893222</td>\n",
       "      <td>{'algorithm': 'auto', 'n_neighbors': 1, 'weigh...</td>\n",
       "    </tr>\n",
       "    <tr>\n",
       "      <th>1</th>\n",
       "      <td>0.893222</td>\n",
       "      <td>{'algorithm': 'auto', 'n_neighbors': 1, 'weigh...</td>\n",
       "    </tr>\n",
       "    <tr>\n",
       "      <th>2</th>\n",
       "      <td>0.927106</td>\n",
       "      <td>{'algorithm': 'auto', 'n_neighbors': 2, 'weigh...</td>\n",
       "    </tr>\n",
       "    <tr>\n",
       "      <th>3</th>\n",
       "      <td>0.893222</td>\n",
       "      <td>{'algorithm': 'auto', 'n_neighbors': 2, 'weigh...</td>\n",
       "    </tr>\n",
       "    <tr>\n",
       "      <th>4</th>\n",
       "      <td>0.917521</td>\n",
       "      <td>{'algorithm': 'auto', 'n_neighbors': 3, 'weigh...</td>\n",
       "    </tr>\n",
       "    <tr>\n",
       "      <th>...</th>\n",
       "      <td>...</td>\n",
       "      <td>...</td>\n",
       "    </tr>\n",
       "    <tr>\n",
       "      <th>75</th>\n",
       "      <td>0.926215</td>\n",
       "      <td>{'algorithm': 'brute', 'n_neighbors': 8, 'weig...</td>\n",
       "    </tr>\n",
       "    <tr>\n",
       "      <th>76</th>\n",
       "      <td>0.926438</td>\n",
       "      <td>{'algorithm': 'brute', 'n_neighbors': 9, 'weig...</td>\n",
       "    </tr>\n",
       "    <tr>\n",
       "      <th>77</th>\n",
       "      <td>0.926438</td>\n",
       "      <td>{'algorithm': 'brute', 'n_neighbors': 9, 'weig...</td>\n",
       "    </tr>\n",
       "    <tr>\n",
       "      <th>78</th>\n",
       "      <td>0.928444</td>\n",
       "      <td>{'algorithm': 'brute', 'n_neighbors': 10, 'wei...</td>\n",
       "    </tr>\n",
       "    <tr>\n",
       "      <th>79</th>\n",
       "      <td>0.928222</td>\n",
       "      <td>{'algorithm': 'brute', 'n_neighbors': 10, 'wei...</td>\n",
       "    </tr>\n",
       "  </tbody>\n",
       "</table>\n",
       "<p>80 rows × 2 columns</p>\n",
       "</div>"
      ],
      "text/plain": [
       "    mean_test_score                                             params\n",
       "0          0.893222  {'algorithm': 'auto', 'n_neighbors': 1, 'weigh...\n",
       "1          0.893222  {'algorithm': 'auto', 'n_neighbors': 1, 'weigh...\n",
       "2          0.927106  {'algorithm': 'auto', 'n_neighbors': 2, 'weigh...\n",
       "3          0.893222  {'algorithm': 'auto', 'n_neighbors': 2, 'weigh...\n",
       "4          0.917521  {'algorithm': 'auto', 'n_neighbors': 3, 'weigh...\n",
       "..              ...                                                ...\n",
       "75         0.926215  {'algorithm': 'brute', 'n_neighbors': 8, 'weig...\n",
       "76         0.926438  {'algorithm': 'brute', 'n_neighbors': 9, 'weig...\n",
       "77         0.926438  {'algorithm': 'brute', 'n_neighbors': 9, 'weig...\n",
       "78         0.928444  {'algorithm': 'brute', 'n_neighbors': 10, 'wei...\n",
       "79         0.928222  {'algorithm': 'brute', 'n_neighbors': 10, 'wei...\n",
       "\n",
       "[80 rows x 2 columns]"
      ]
     },
     "execution_count": 54,
     "metadata": {},
     "output_type": "execute_result"
    }
   ],
   "source": [
    "#Create an instance of the GridSearch class and passing in the KNN model and the parameter dictionary defined above with a 5 fold validation\n",
    "#And outputting the all the combinations used of parameters used\n",
    "start_time=time.time()\n",
    "grid = GridSearchCV(KNeighborsClassifier(), param_grid, cv=5, scoring='accuracy', return_train_score=False, n_jobs=-1)\n",
    "grid.fit(X,y)\n",
    "print(\"Time taken to compute: {:.3f}\".format(time.time()-start_time))\n",
    "pd.DataFrame(grid.cv_results_)[[\"mean_test_score\", \"params\"]]"
   ]
  },
  {
   "cell_type": "code",
   "execution_count": 55,
   "id": "6c5e384a",
   "metadata": {},
   "outputs": [
    {
     "name": "stdout",
     "output_type": "stream",
     "text": [
      "Best models accuracy is:0.928 \n",
      "Used values:  {'algorithm': 'auto', 'n_neighbors': 8, 'weights': 'uniform'}\n"
     ]
    }
   ],
   "source": [
    "#Outputting the accuracy achived using the best parameters.\n",
    "knn_grid_bm=grid.best_score_\n",
    "knn_grid_bp=grid.best_params_\n",
    "print(\"Best models accuracy is:{:.3f} \".format(knn_grid_bm))\n",
    "print(\"Used values: \", knn_grid_bp)"
   ]
  },
  {
   "cell_type": "markdown",
   "id": "e41de9f9",
   "metadata": {},
   "source": [
    "### KNN Randomized Search"
   ]
  },
  {
   "cell_type": "code",
   "execution_count": 56,
   "id": "db5acce2",
   "metadata": {},
   "outputs": [
    {
     "name": "stdout",
     "output_type": "stream",
     "text": [
      "Time taken to compute: 5.662\n"
     ]
    },
    {
     "data": {
      "text/html": [
       "<div>\n",
       "<style scoped>\n",
       "    .dataframe tbody tr th:only-of-type {\n",
       "        vertical-align: middle;\n",
       "    }\n",
       "\n",
       "    .dataframe tbody tr th {\n",
       "        vertical-align: top;\n",
       "    }\n",
       "\n",
       "    .dataframe thead th {\n",
       "        text-align: right;\n",
       "    }\n",
       "</style>\n",
       "<table border=\"1\" class=\"dataframe\">\n",
       "  <thead>\n",
       "    <tr style=\"text-align: right;\">\n",
       "      <th></th>\n",
       "      <th>mean_test_score</th>\n",
       "      <th>params</th>\n",
       "    </tr>\n",
       "  </thead>\n",
       "  <tbody>\n",
       "    <tr>\n",
       "      <th>0</th>\n",
       "      <td>0.893222</td>\n",
       "      <td>{'weights': 'distance', 'n_neighbors': 1, 'alg...</td>\n",
       "    </tr>\n",
       "    <tr>\n",
       "      <th>1</th>\n",
       "      <td>0.917520</td>\n",
       "      <td>{'weights': 'distance', 'n_neighbors': 4, 'alg...</td>\n",
       "    </tr>\n",
       "    <tr>\n",
       "      <th>2</th>\n",
       "      <td>0.928444</td>\n",
       "      <td>{'weights': 'uniform', 'n_neighbors': 10, 'alg...</td>\n",
       "    </tr>\n",
       "    <tr>\n",
       "      <th>3</th>\n",
       "      <td>0.893222</td>\n",
       "      <td>{'weights': 'distance', 'n_neighbors': 1, 'alg...</td>\n",
       "    </tr>\n",
       "    <tr>\n",
       "      <th>4</th>\n",
       "      <td>0.917520</td>\n",
       "      <td>{'weights': 'distance', 'n_neighbors': 4, 'alg...</td>\n",
       "    </tr>\n",
       "    <tr>\n",
       "      <th>5</th>\n",
       "      <td>0.928445</td>\n",
       "      <td>{'weights': 'uniform', 'n_neighbors': 8, 'algo...</td>\n",
       "    </tr>\n",
       "    <tr>\n",
       "      <th>6</th>\n",
       "      <td>0.917521</td>\n",
       "      <td>{'weights': 'distance', 'n_neighbors': 3, 'alg...</td>\n",
       "    </tr>\n",
       "    <tr>\n",
       "      <th>7</th>\n",
       "      <td>0.928444</td>\n",
       "      <td>{'weights': 'uniform', 'n_neighbors': 10, 'alg...</td>\n",
       "    </tr>\n",
       "    <tr>\n",
       "      <th>8</th>\n",
       "      <td>0.924431</td>\n",
       "      <td>{'weights': 'distance', 'n_neighbors': 5, 'alg...</td>\n",
       "    </tr>\n",
       "    <tr>\n",
       "      <th>9</th>\n",
       "      <td>0.893222</td>\n",
       "      <td>{'weights': 'uniform', 'n_neighbors': 1, 'algo...</td>\n",
       "    </tr>\n",
       "    <tr>\n",
       "      <th>10</th>\n",
       "      <td>0.928222</td>\n",
       "      <td>{'weights': 'distance', 'n_neighbors': 10, 'al...</td>\n",
       "    </tr>\n",
       "    <tr>\n",
       "      <th>11</th>\n",
       "      <td>0.893222</td>\n",
       "      <td>{'weights': 'uniform', 'n_neighbors': 1, 'algo...</td>\n",
       "    </tr>\n",
       "    <tr>\n",
       "      <th>12</th>\n",
       "      <td>0.923539</td>\n",
       "      <td>{'weights': 'distance', 'n_neighbors': 6, 'alg...</td>\n",
       "    </tr>\n",
       "    <tr>\n",
       "      <th>13</th>\n",
       "      <td>0.928445</td>\n",
       "      <td>{'weights': 'uniform', 'n_neighbors': 8, 'algo...</td>\n",
       "    </tr>\n",
       "    <tr>\n",
       "      <th>14</th>\n",
       "      <td>0.924431</td>\n",
       "      <td>{'weights': 'distance', 'n_neighbors': 5, 'alg...</td>\n",
       "    </tr>\n",
       "  </tbody>\n",
       "</table>\n",
       "</div>"
      ],
      "text/plain": [
       "    mean_test_score                                             params\n",
       "0          0.893222  {'weights': 'distance', 'n_neighbors': 1, 'alg...\n",
       "1          0.917520  {'weights': 'distance', 'n_neighbors': 4, 'alg...\n",
       "2          0.928444  {'weights': 'uniform', 'n_neighbors': 10, 'alg...\n",
       "3          0.893222  {'weights': 'distance', 'n_neighbors': 1, 'alg...\n",
       "4          0.917520  {'weights': 'distance', 'n_neighbors': 4, 'alg...\n",
       "5          0.928445  {'weights': 'uniform', 'n_neighbors': 8, 'algo...\n",
       "6          0.917521  {'weights': 'distance', 'n_neighbors': 3, 'alg...\n",
       "7          0.928444  {'weights': 'uniform', 'n_neighbors': 10, 'alg...\n",
       "8          0.924431  {'weights': 'distance', 'n_neighbors': 5, 'alg...\n",
       "9          0.893222  {'weights': 'uniform', 'n_neighbors': 1, 'algo...\n",
       "10         0.928222  {'weights': 'distance', 'n_neighbors': 10, 'al...\n",
       "11         0.893222  {'weights': 'uniform', 'n_neighbors': 1, 'algo...\n",
       "12         0.923539  {'weights': 'distance', 'n_neighbors': 6, 'alg...\n",
       "13         0.928445  {'weights': 'uniform', 'n_neighbors': 8, 'algo...\n",
       "14         0.924431  {'weights': 'distance', 'n_neighbors': 5, 'alg..."
      ]
     },
     "execution_count": 56,
     "metadata": {},
     "output_type": "execute_result"
    }
   ],
   "source": [
    "#Create an instance of the RandomizedSearch class and passing in the KNN model and the parameter dictionary defined above with a 5 fold validation\n",
    "#And outputting the all the combinations used of parameters used\n",
    "start_time=time.time()\n",
    "rand = RandomizedSearchCV(KNeighborsClassifier(), param_grid, cv=5, scoring='accuracy', return_train_score=False, n_iter=15, n_jobs=-1)\n",
    "rand.fit(X,y)\n",
    "print(\"Time taken to compute: {:.3f}\".format(time.time()-start_time))\n",
    "pd.DataFrame(rand.cv_results_)[[\"mean_test_score\", \"params\"]]"
   ]
  },
  {
   "cell_type": "code",
   "execution_count": 57,
   "id": "2943a0c6",
   "metadata": {},
   "outputs": [
    {
     "name": "stdout",
     "output_type": "stream",
     "text": [
      "Best models accuracy is:0.928 \n",
      "Used values:  {'weights': 'uniform', 'n_neighbors': 8, 'algorithm': 'kd_tree'}\n"
     ]
    }
   ],
   "source": [
    "#Outputting the accuracy achived using the best parameters.\n",
    "knn_random_bm=rand.best_score_\n",
    "knn_random_bp=rand.best_params_\n",
    "print(\"Best models accuracy is:{:.3f} \".format(knn_random_bm))\n",
    "print(\"Used values: \", knn_random_bp)"
   ]
  },
  {
   "cell_type": "markdown",
   "id": "096f9bad",
   "metadata": {},
   "source": [
    "# Model comparison"
   ]
  },
  {
   "cell_type": "code",
   "execution_count": 58,
   "id": "88775be3",
   "metadata": {
    "scrolled": false
   },
   "outputs": [
    {
     "data": {
      "text/html": [
       "<div>\n",
       "<style scoped>\n",
       "    .dataframe tbody tr th:only-of-type {\n",
       "        vertical-align: middle;\n",
       "    }\n",
       "\n",
       "    .dataframe tbody tr th {\n",
       "        vertical-align: top;\n",
       "    }\n",
       "\n",
       "    .dataframe thead th {\n",
       "        text-align: right;\n",
       "    }\n",
       "</style>\n",
       "<table border=\"1\" class=\"dataframe\">\n",
       "  <thead>\n",
       "    <tr style=\"text-align: right;\">\n",
       "      <th></th>\n",
       "      <th>Model</th>\n",
       "      <th>Accuracy</th>\n",
       "    </tr>\n",
       "  </thead>\n",
       "  <tbody>\n",
       "    <tr>\n",
       "      <th>0</th>\n",
       "      <td>Logistic Regression</td>\n",
       "      <td>93.095768</td>\n",
       "    </tr>\n",
       "    <tr>\n",
       "      <th>1</th>\n",
       "      <td>Logistic Regression Oversampled</td>\n",
       "      <td>82.704967</td>\n",
       "    </tr>\n",
       "    <tr>\n",
       "      <th>2</th>\n",
       "      <td>Logistic Regression Scaled</td>\n",
       "      <td>93.318486</td>\n",
       "    </tr>\n",
       "    <tr>\n",
       "      <th>3</th>\n",
       "      <td>Logistic Regression Oversampled Scaled</td>\n",
       "      <td>83.363256</td>\n",
       "    </tr>\n",
       "    <tr>\n",
       "      <th>4</th>\n",
       "      <td>Logistic Regression Grid Search</td>\n",
       "      <td>93.134179</td>\n",
       "    </tr>\n",
       "    <tr>\n",
       "      <th>5</th>\n",
       "      <td>Logistic Regression Randomized Search</td>\n",
       "      <td>93.134179</td>\n",
       "    </tr>\n",
       "    <tr>\n",
       "      <th>6</th>\n",
       "      <td>Random forest</td>\n",
       "      <td>93.429844</td>\n",
       "    </tr>\n",
       "    <tr>\n",
       "      <th>7</th>\n",
       "      <td>Random forest Oversampled</td>\n",
       "      <td>99.162178</td>\n",
       "    </tr>\n",
       "    <tr>\n",
       "      <th>8</th>\n",
       "      <td>Random forest Scaled</td>\n",
       "      <td>93.318486</td>\n",
       "    </tr>\n",
       "    <tr>\n",
       "      <th>9</th>\n",
       "      <td>Random forest Oversampled Scaled</td>\n",
       "      <td>98.922801</td>\n",
       "    </tr>\n",
       "    <tr>\n",
       "      <th>10</th>\n",
       "      <td>Random forest Grid Search</td>\n",
       "      <td>93.089611</td>\n",
       "    </tr>\n",
       "    <tr>\n",
       "      <th>11</th>\n",
       "      <td>Random forest Randomized Search</td>\n",
       "      <td>93.089611</td>\n",
       "    </tr>\n",
       "    <tr>\n",
       "      <th>12</th>\n",
       "      <td>KNN</td>\n",
       "      <td>92.427617</td>\n",
       "    </tr>\n",
       "    <tr>\n",
       "      <th>13</th>\n",
       "      <td>KNN Oversampled</td>\n",
       "      <td>96.349491</td>\n",
       "    </tr>\n",
       "    <tr>\n",
       "      <th>14</th>\n",
       "      <td>KNN Scaled</td>\n",
       "      <td>93.095768</td>\n",
       "    </tr>\n",
       "    <tr>\n",
       "      <th>15</th>\n",
       "      <td>KNN Oversampled Scaled</td>\n",
       "      <td>97.307002</td>\n",
       "    </tr>\n",
       "    <tr>\n",
       "      <th>16</th>\n",
       "      <td>KNN Grid Search</td>\n",
       "      <td>92.844473</td>\n",
       "    </tr>\n",
       "    <tr>\n",
       "      <th>17</th>\n",
       "      <td>KNN Randomized Search</td>\n",
       "      <td>92.844473</td>\n",
       "    </tr>\n",
       "  </tbody>\n",
       "</table>\n",
       "</div>"
      ],
      "text/plain": [
       "                                     Model   Accuracy\n",
       "0                      Logistic Regression  93.095768\n",
       "1          Logistic Regression Oversampled  82.704967\n",
       "2               Logistic Regression Scaled  93.318486\n",
       "3   Logistic Regression Oversampled Scaled  83.363256\n",
       "4          Logistic Regression Grid Search  93.134179\n",
       "5    Logistic Regression Randomized Search  93.134179\n",
       "6                            Random forest  93.429844\n",
       "7                Random forest Oversampled  99.162178\n",
       "8                     Random forest Scaled  93.318486\n",
       "9         Random forest Oversampled Scaled  98.922801\n",
       "10               Random forest Grid Search  93.089611\n",
       "11         Random forest Randomized Search  93.089611\n",
       "12                                     KNN  92.427617\n",
       "13                         KNN Oversampled  96.349491\n",
       "14                              KNN Scaled  93.095768\n",
       "15                  KNN Oversampled Scaled  97.307002\n",
       "16                         KNN Grid Search  92.844473\n",
       "17                   KNN Randomized Search  92.844473"
      ]
     },
     "execution_count": 58,
     "metadata": {},
     "output_type": "execute_result"
    }
   ],
   "source": [
    "model_comparison=[['Logistic Regression', logistic_accuracy*100],\n",
    "                  ['Logistic Regression Oversampled', logistic_over_accuracy*100],\n",
    "                  ['Logistic Regression Scaled', logistic_scaled_accuracy*100],\n",
    "                  ['Logistic Regression Oversampled Scaled', logistic_over_scaled_accuracy*100],\n",
    "                  ['Logistic Regression Grid Search',logistic_grid_bm*100],\n",
    "                  ['Logistic Regression Randomized Search',logistic_random_bm*100],\n",
    "                  ['Random forest', rf_accuracy*100],\n",
    "                  ['Random forest Oversampled', rf_over_accuracy*100],\n",
    "                  ['Random forest Scaled', rf_scaled_accuracy*100],\n",
    "                  ['Random forest Oversampled Scaled', rf_over_scaled_accuracy*100],\n",
    "                  ['Random forest Grid Search', rf_grid_bm*100],\n",
    "                  ['Random forest Randomized Search', rf_random_bm*100],\n",
    "                  ['KNN', knn_accuracy*100],\n",
    "                  ['KNN Oversampled', knn_over_accuracy*100],\n",
    "                  ['KNN Scaled', knn_scaled_accuracy*100],\n",
    "                  ['KNN Oversampled Scaled', knn_over_scaled_accuracy*100],\n",
    "                  ['KNN Grid Search', knn_grid_bm*100],\n",
    "                  ['KNN Randomized Search', knn_random_bm*100]\n",
    "                 ]\n",
    "model_comparison_df = pd.DataFrame(model_comparison,columns=['Model','Accuracy'])\n",
    "model_comparison_df\n"
   ]
  }
 ],
 "metadata": {
  "kernelspec": {
   "display_name": "Python 3",
   "language": "python",
   "name": "python3"
  },
  "language_info": {
   "codemirror_mode": {
    "name": "ipython",
    "version": 3
   },
   "file_extension": ".py",
   "mimetype": "text/x-python",
   "name": "python",
   "nbconvert_exporter": "python",
   "pygments_lexer": "ipython3",
   "version": "3.8.8"
  }
 },
 "nbformat": 4,
 "nbformat_minor": 5
}
